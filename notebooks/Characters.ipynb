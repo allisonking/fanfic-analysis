{
 "cells": [
  {
   "cell_type": "code",
   "execution_count": 1,
   "metadata": {
    "collapsed": false
   },
   "outputs": [
    {
     "data": {
      "text/html": [
       "<div>\n",
       "<style>\n",
       "    .dataframe thead tr:only-child th {\n",
       "        text-align: right;\n",
       "    }\n",
       "\n",
       "    .dataframe thead th {\n",
       "        text-align: left;\n",
       "    }\n",
       "\n",
       "    .dataframe tbody tr th {\n",
       "        vertical-align: top;\n",
       "    }\n",
       "</style>\n",
       "<table border=\"1\" class=\"dataframe\">\n",
       "  <thead>\n",
       "    <tr style=\"text-align: right;\">\n",
       "      <th></th>\n",
       "      <th>author_id</th>\n",
       "      <th>characters</th>\n",
       "      <th>genres</th>\n",
       "      <th>language</th>\n",
       "      <th>num_chapters</th>\n",
       "      <th>num_favs</th>\n",
       "      <th>num_follows</th>\n",
       "      <th>num_reviews</th>\n",
       "      <th>num_words</th>\n",
       "      <th>published</th>\n",
       "      <th>rated</th>\n",
       "      <th>status</th>\n",
       "      <th>title</th>\n",
       "      <th>updated</th>\n",
       "    </tr>\n",
       "  </thead>\n",
       "  <tbody>\n",
       "    <tr>\n",
       "      <th>10000036</th>\n",
       "      <td>2846408</td>\n",
       "      <td>[[Ron W., Hermione G.]]</td>\n",
       "      <td>[Romance, Humor]</td>\n",
       "      <td>English</td>\n",
       "      <td>1</td>\n",
       "      <td>5</td>\n",
       "      <td>2</td>\n",
       "      <td>3</td>\n",
       "      <td>5436</td>\n",
       "      <td>1389050085</td>\n",
       "      <td>T</td>\n",
       "      <td>Complete</td>\n",
       "      <td>Kilts and other adversities</td>\n",
       "      <td>1389050085</td>\n",
       "    </tr>\n",
       "    <tr>\n",
       "      <th>10000109</th>\n",
       "      <td>5232542</td>\n",
       "      <td>[James P., Lily Evans P.]</td>\n",
       "      <td>[Humor, Romance]</td>\n",
       "      <td>English</td>\n",
       "      <td>1</td>\n",
       "      <td>4</td>\n",
       "      <td>NaN</td>\n",
       "      <td>2</td>\n",
       "      <td>747</td>\n",
       "      <td>1389051817</td>\n",
       "      <td>K+</td>\n",
       "      <td>Complete</td>\n",
       "      <td>Of Dead Puppies and Dropped Pianos</td>\n",
       "      <td>1389051817</td>\n",
       "    </tr>\n",
       "    <tr>\n",
       "      <th>10000111</th>\n",
       "      <td>5438139</td>\n",
       "      <td>[]</td>\n",
       "      <td>[]</td>\n",
       "      <td>Spanish</td>\n",
       "      <td>1</td>\n",
       "      <td>7</td>\n",
       "      <td>6</td>\n",
       "      <td>5</td>\n",
       "      <td>400</td>\n",
       "      <td>1389051884</td>\n",
       "      <td>K+</td>\n",
       "      <td>Incomplete</td>\n",
       "      <td>Querido primo Harry</td>\n",
       "      <td>1389051884</td>\n",
       "    </tr>\n",
       "    <tr>\n",
       "      <th>10000114</th>\n",
       "      <td>5437478</td>\n",
       "      <td>[Hermione G., Draco M.]</td>\n",
       "      <td>[Romance, Humor]</td>\n",
       "      <td>Spanish</td>\n",
       "      <td>1</td>\n",
       "      <td>11</td>\n",
       "      <td>13</td>\n",
       "      <td>8</td>\n",
       "      <td>1757</td>\n",
       "      <td>1389051911</td>\n",
       "      <td>K+</td>\n",
       "      <td>Incomplete</td>\n",
       "      <td>Conciertos en Hogwarts</td>\n",
       "      <td>1389051911</td>\n",
       "    </tr>\n",
       "    <tr>\n",
       "      <th>10000137</th>\n",
       "      <td>4626918</td>\n",
       "      <td>[Bellatrix L., Luna L.]</td>\n",
       "      <td>[Humor, Horror]</td>\n",
       "      <td>English</td>\n",
       "      <td>3</td>\n",
       "      <td>NaN</td>\n",
       "      <td>NaN</td>\n",
       "      <td>3</td>\n",
       "      <td>659</td>\n",
       "      <td>1389052244</td>\n",
       "      <td>T</td>\n",
       "      <td>Complete</td>\n",
       "      <td>Crazy songs from crazy people</td>\n",
       "      <td>1389414254</td>\n",
       "    </tr>\n",
       "  </tbody>\n",
       "</table>\n",
       "</div>"
      ],
      "text/plain": [
       "         author_id                 characters            genres language  \\\n",
       "10000036   2846408    [[Ron W., Hermione G.]]  [Romance, Humor]  English   \n",
       "10000109   5232542  [James P., Lily Evans P.]  [Humor, Romance]  English   \n",
       "10000111   5438139                         []                []  Spanish   \n",
       "10000114   5437478    [Hermione G., Draco M.]  [Romance, Humor]  Spanish   \n",
       "10000137   4626918    [Bellatrix L., Luna L.]   [Humor, Horror]  English   \n",
       "\n",
       "         num_chapters num_favs num_follows num_reviews num_words   published  \\\n",
       "10000036            1        5           2           3      5436  1389050085   \n",
       "10000109            1        4         NaN           2       747  1389051817   \n",
       "10000111            1        7           6           5       400  1389051884   \n",
       "10000114            1       11          13           8      1757  1389051911   \n",
       "10000137            3      NaN         NaN           3       659  1389052244   \n",
       "\n",
       "         rated      status                               title     updated  \n",
       "10000036     T    Complete         Kilts and other adversities  1389050085  \n",
       "10000109    K+    Complete  Of Dead Puppies and Dropped Pianos  1389051817  \n",
       "10000111    K+  Incomplete                 Querido primo Harry  1389051884  \n",
       "10000114    K+  Incomplete              Conciertos en Hogwarts  1389051911  \n",
       "10000137     T    Complete       Crazy songs from crazy people  1389414254  "
      ]
     },
     "execution_count": 1,
     "metadata": {},
     "output_type": "execute_result"
    }
   ],
   "source": [
    "import pandas as pd\n",
    "\n",
    "data_directory = '../data/'\n",
    "\n",
    "# here is the corrected data\n",
    "filename = \"corrected_data.json\"\n",
    "\n",
    "# take the transpose so that the column names are the metadata keys, not the story ids\n",
    "df = pd.read_json(data_directory + filename).transpose()\n",
    "\n",
    "# let's see what it looks like!\n",
    "df.head()"
   ]
  },
  {
   "cell_type": "code",
   "execution_count": 2,
   "metadata": {
    "collapsed": false
   },
   "outputs": [
    {
     "data": {
      "text/html": [
       "<div>\n",
       "<style>\n",
       "    .dataframe thead tr:only-child th {\n",
       "        text-align: right;\n",
       "    }\n",
       "\n",
       "    .dataframe thead th {\n",
       "        text-align: left;\n",
       "    }\n",
       "\n",
       "    .dataframe tbody tr th {\n",
       "        vertical-align: top;\n",
       "    }\n",
       "</style>\n",
       "<table border=\"1\" class=\"dataframe\">\n",
       "  <thead>\n",
       "    <tr style=\"text-align: right;\">\n",
       "      <th></th>\n",
       "      <th>author_id</th>\n",
       "      <th>characters</th>\n",
       "      <th>genres</th>\n",
       "      <th>language</th>\n",
       "      <th>num_chapters</th>\n",
       "      <th>num_favs</th>\n",
       "      <th>num_follows</th>\n",
       "      <th>num_reviews</th>\n",
       "      <th>num_words</th>\n",
       "      <th>published</th>\n",
       "      <th>rated</th>\n",
       "      <th>status</th>\n",
       "      <th>title</th>\n",
       "      <th>updated</th>\n",
       "    </tr>\n",
       "  </thead>\n",
       "  <tbody>\n",
       "    <tr>\n",
       "      <th>1657629</th>\n",
       "      <td>509449</td>\n",
       "      <td>[Harry P.]</td>\n",
       "      <td>[Adventure]</td>\n",
       "      <td>English</td>\n",
       "      <td>29</td>\n",
       "      <td>4491</td>\n",
       "      <td>3397</td>\n",
       "      <td>4699</td>\n",
       "      <td>470346</td>\n",
       "      <td>0</td>\n",
       "      <td>T</td>\n",
       "      <td>Incomplete</td>\n",
       "      <td>Harry Potter and the Power of Time</td>\n",
       "      <td>1177495284</td>\n",
       "    </tr>\n",
       "    <tr>\n",
       "      <th>3803</th>\n",
       "      <td>5402</td>\n",
       "      <td>[]</td>\n",
       "      <td>[]</td>\n",
       "      <td>English</td>\n",
       "      <td>4</td>\n",
       "      <td>155</td>\n",
       "      <td>36</td>\n",
       "      <td>587</td>\n",
       "      <td>13605</td>\n",
       "      <td>936428400</td>\n",
       "      <td>K+</td>\n",
       "      <td>Incomplete</td>\n",
       "      <td>Harry Potter and the Man of Unknown</td>\n",
       "      <td>936428400</td>\n",
       "    </tr>\n",
       "    <tr>\n",
       "      <th>6826</th>\n",
       "      <td>3986</td>\n",
       "      <td>[]</td>\n",
       "      <td>[]</td>\n",
       "      <td>English</td>\n",
       "      <td>1</td>\n",
       "      <td>20</td>\n",
       "      <td>14</td>\n",
       "      <td>179</td>\n",
       "      <td>2731</td>\n",
       "      <td>938415600</td>\n",
       "      <td>K+</td>\n",
       "      <td>Incomplete</td>\n",
       "      <td>Hermione &amp; Harry</td>\n",
       "      <td>938415600</td>\n",
       "    </tr>\n",
       "    <tr>\n",
       "      <th>7588</th>\n",
       "      <td>5402</td>\n",
       "      <td>[]</td>\n",
       "      <td>[]</td>\n",
       "      <td>English</td>\n",
       "      <td>2</td>\n",
       "      <td>76</td>\n",
       "      <td>10</td>\n",
       "      <td>396</td>\n",
       "      <td>7782</td>\n",
       "      <td>939798000</td>\n",
       "      <td>K+</td>\n",
       "      <td>Incomplete</td>\n",
       "      <td>The Love That Shattered a Man</td>\n",
       "      <td>939798000</td>\n",
       "    </tr>\n",
       "    <tr>\n",
       "      <th>684</th>\n",
       "      <td>4069</td>\n",
       "      <td>[Lily Evans P., James P.]</td>\n",
       "      <td>[Romance, Angst]</td>\n",
       "      <td>English</td>\n",
       "      <td>1</td>\n",
       "      <td>83</td>\n",
       "      <td>12</td>\n",
       "      <td>363</td>\n",
       "      <td>10649</td>\n",
       "      <td>940489200</td>\n",
       "      <td>K+</td>\n",
       "      <td>Incomplete</td>\n",
       "      <td>Lily</td>\n",
       "      <td>940489200</td>\n",
       "    </tr>\n",
       "  </tbody>\n",
       "</table>\n",
       "</div>"
      ],
      "text/plain": [
       "        author_id                 characters            genres language  \\\n",
       "1657629    509449                 [Harry P.]       [Adventure]  English   \n",
       "3803         5402                         []                []  English   \n",
       "6826         3986                         []                []  English   \n",
       "7588         5402                         []                []  English   \n",
       "684          4069  [Lily Evans P., James P.]  [Romance, Angst]  English   \n",
       "\n",
       "        num_chapters num_favs num_follows num_reviews num_words  published  \\\n",
       "1657629           29     4491        3397        4699    470346          0   \n",
       "3803               4      155          36         587     13605  936428400   \n",
       "6826               1       20          14         179      2731  938415600   \n",
       "7588               2       76          10         396      7782  939798000   \n",
       "684                1       83          12         363     10649  940489200   \n",
       "\n",
       "        rated      status                                title     updated  \n",
       "1657629     T  Incomplete   Harry Potter and the Power of Time  1177495284  \n",
       "3803       K+  Incomplete  Harry Potter and the Man of Unknown   936428400  \n",
       "6826       K+  Incomplete                     Hermione & Harry   938415600  \n",
       "7588       K+  Incomplete        The Love That Shattered a Man   939798000  \n",
       "684        K+  Incomplete                                 Lily   940489200  "
      ]
     },
     "execution_count": 2,
     "metadata": {},
     "output_type": "execute_result"
    }
   ],
   "source": [
    "sorted_df = df.sort_values(['published'], ascending = True)\n",
    "sorted_df.head()"
   ]
  },
  {
   "cell_type": "code",
   "execution_count": 3,
   "metadata": {
    "collapsed": true
   },
   "outputs": [],
   "source": [
    "sorted_df.loc[sorted_df.published == 0, 'published'] = 1177495284"
   ]
  },
  {
   "cell_type": "code",
   "execution_count": 4,
   "metadata": {
    "collapsed": false
   },
   "outputs": [
    {
     "data": {
      "text/plain": [
       "507475"
      ]
     },
     "execution_count": 4,
     "metadata": {},
     "output_type": "execute_result"
    }
   ],
   "source": [
    "characters_only = sorted_df[sorted_df['characters'].apply(lambda x: len(x)>0)]\n",
    "len(characters_only)"
   ]
  },
  {
   "cell_type": "markdown",
   "metadata": {},
   "source": [
    "Okay, that's all the data. Time to tease out some characters... I think it'd be good to have:\n",
    "Harry P.\n",
    "Ron W.\n",
    "Hermione G.\n",
    "Sirius B.\n",
    "Remus L.\n",
    "Albus D.\n",
    "Albus S. P.\n",
    "Draco M.\n",
    "Severus S.\n",
    "Newt S.\n",
    "Neville L.\n",
    "Gellert G.\n",
    "N. Tonks\n",
    "Bellatrix L."
   ]
  },
  {
   "cell_type": "code",
   "execution_count": 45,
   "metadata": {
    "collapsed": false
   },
   "outputs": [
    {
     "data": {
      "text/html": [
       "<div>\n",
       "<style>\n",
       "    .dataframe thead tr:only-child th {\n",
       "        text-align: right;\n",
       "    }\n",
       "\n",
       "    .dataframe thead th {\n",
       "        text-align: left;\n",
       "    }\n",
       "\n",
       "    .dataframe tbody tr th {\n",
       "        vertical-align: top;\n",
       "    }\n",
       "</style>\n",
       "<table border=\"1\" class=\"dataframe\">\n",
       "  <thead>\n",
       "    <tr style=\"text-align: right;\">\n",
       "      <th></th>\n",
       "      <th>characters</th>\n",
       "      <th>published</th>\n",
       "    </tr>\n",
       "  </thead>\n",
       "  <tbody>\n",
       "    <tr>\n",
       "      <th>1657629</th>\n",
       "      <td>[Harry P.]</td>\n",
       "      <td>1177495284</td>\n",
       "    </tr>\n",
       "    <tr>\n",
       "      <th>684</th>\n",
       "      <td>[Lily Evans P., James P.]</td>\n",
       "      <td>940489200</td>\n",
       "    </tr>\n",
       "    <tr>\n",
       "      <th>3476</th>\n",
       "      <td>[Harry P., Lily Evans P.]</td>\n",
       "      <td>942739200</td>\n",
       "    </tr>\n",
       "    <tr>\n",
       "      <th>7795</th>\n",
       "      <td>[Harry P., Hermione G.]</td>\n",
       "      <td>945590400</td>\n",
       "    </tr>\n",
       "    <tr>\n",
       "      <th>5111</th>\n",
       "      <td>[Ginny W., Ron W.]</td>\n",
       "      <td>946886400</td>\n",
       "    </tr>\n",
       "  </tbody>\n",
       "</table>\n",
       "</div>"
      ],
      "text/plain": [
       "                        characters   published\n",
       "1657629                 [Harry P.]  1177495284\n",
       "684      [Lily Evans P., James P.]   940489200\n",
       "3476     [Harry P., Lily Evans P.]   942739200\n",
       "7795       [Harry P., Hermione G.]   945590400\n",
       "5111            [Ginny W., Ron W.]   946886400"
      ]
     },
     "execution_count": 45,
     "metadata": {},
     "output_type": "execute_result"
    }
   ],
   "source": [
    "min_df = characters_only[['characters','published']]\n",
    "min_df.head()"
   ]
  },
  {
   "cell_type": "code",
   "execution_count": 46,
   "metadata": {
    "collapsed": false
   },
   "outputs": [
    {
     "name": "stderr",
     "output_type": "stream",
     "text": [
      "/Users/allisonking/anaconda2/envs/fanfic/lib/python3.6/site-packages/pandas/core/indexing.py:601: SettingWithCopyWarning: \n",
      "A value is trying to be set on a copy of a slice from a DataFrame.\n",
      "Try using .loc[row_indexer,col_indexer] = value instead\n",
      "\n",
      "See the caveats in the documentation: http://pandas.pydata.org/pandas-docs/stable/indexing.html#indexing-view-versus-copy\n",
      "  self.obj[item_labels[indexer[info_axis]]] = value\n"
     ]
    },
    {
     "data": {
      "text/html": [
       "<div>\n",
       "<style>\n",
       "    .dataframe thead tr:only-child th {\n",
       "        text-align: right;\n",
       "    }\n",
       "\n",
       "    .dataframe thead th {\n",
       "        text-align: left;\n",
       "    }\n",
       "\n",
       "    .dataframe tbody tr th {\n",
       "        vertical-align: top;\n",
       "    }\n",
       "</style>\n",
       "<table border=\"1\" class=\"dataframe\">\n",
       "  <thead>\n",
       "    <tr style=\"text-align: right;\">\n",
       "      <th></th>\n",
       "      <th>characters</th>\n",
       "      <th>published</th>\n",
       "    </tr>\n",
       "  </thead>\n",
       "  <tbody>\n",
       "    <tr>\n",
       "      <th>1657629</th>\n",
       "      <td>[Harry P.]</td>\n",
       "      <td>2007-04-25 10:01:24</td>\n",
       "    </tr>\n",
       "    <tr>\n",
       "      <th>684</th>\n",
       "      <td>[Lily Evans P., James P.]</td>\n",
       "      <td>1999-10-21 07:00:00</td>\n",
       "    </tr>\n",
       "    <tr>\n",
       "      <th>3476</th>\n",
       "      <td>[Harry P., Lily Evans P.]</td>\n",
       "      <td>1999-11-16 08:00:00</td>\n",
       "    </tr>\n",
       "    <tr>\n",
       "      <th>7795</th>\n",
       "      <td>[Harry P., Hermione G.]</td>\n",
       "      <td>1999-12-19 08:00:00</td>\n",
       "    </tr>\n",
       "    <tr>\n",
       "      <th>5111</th>\n",
       "      <td>[Ginny W., Ron W.]</td>\n",
       "      <td>2000-01-03 08:00:00</td>\n",
       "    </tr>\n",
       "  </tbody>\n",
       "</table>\n",
       "</div>"
      ],
      "text/plain": [
       "                        characters           published\n",
       "1657629                 [Harry P.] 2007-04-25 10:01:24\n",
       "684      [Lily Evans P., James P.] 1999-10-21 07:00:00\n",
       "3476     [Harry P., Lily Evans P.] 1999-11-16 08:00:00\n",
       "7795       [Harry P., Hermione G.] 1999-12-19 08:00:00\n",
       "5111            [Ginny W., Ron W.] 2000-01-03 08:00:00"
      ]
     },
     "execution_count": 46,
     "metadata": {},
     "output_type": "execute_result"
    }
   ],
   "source": [
    "min_df.loc[:,'published'] = min_df['published'].map(lambda x: convertToDateTimeObj(x))\n",
    "min_df.head()"
   ]
  },
  {
   "cell_type": "code",
   "execution_count": 38,
   "metadata": {
    "collapsed": true
   },
   "outputs": [],
   "source": [
    "import datetime\n",
    "def convertToDateTimeObj(timestamp):\n",
    "    return datetime.datetime.utcfromtimestamp(timestamp)"
   ]
  },
  {
   "cell_type": "code",
   "execution_count": 9,
   "metadata": {
    "collapsed": true
   },
   "outputs": [],
   "source": [
    "character_mapping = {'Harry P.' : 'Harry Potter', 'Ron W.' : 'Ron Weasley', 'Hermione G.' : 'Hermione Granger',\n",
    "                     'Draco M.' : 'Draco Malfoy', 'Neville L.' : 'Neville Longbottom',\n",
    "                    'Sirius B.' : 'Sirius Black', 'Remus L.' : 'Remus Lupin', 'N. Tonks' : 'Nymphadora Tonks',\n",
    "                     'Bellatrix L.' : 'Bellatrix Lestrange', 'Severus S.' : 'Severus Snape', \n",
    "                     'Albus D.' : 'Albus Dumbledore', 'Gellert G.' : 'Gellert Grindelwald', 'Newt S.' : 'Newt Scamander',\n",
    "                     'Albus S. P.' : 'Albus Severus Potter'\n",
    "                    }"
   ]
  },
  {
   "cell_type": "code",
   "execution_count": 47,
   "metadata": {
    "collapsed": false
   },
   "outputs": [],
   "source": [
    "test = min_df[min_df['characters'].apply(lambda x: 'Harry P.' in x)]\n"
   ]
  },
  {
   "cell_type": "code",
   "execution_count": 48,
   "metadata": {
    "collapsed": false
   },
   "outputs": [
    {
     "data": {
      "text/plain": [
       "144067"
      ]
     },
     "execution_count": 48,
     "metadata": {},
     "output_type": "execute_result"
    }
   ],
   "source": [
    "len(test)"
   ]
  },
  {
   "cell_type": "code",
   "execution_count": 66,
   "metadata": {
    "collapsed": false
   },
   "outputs": [
    {
     "data": {
      "text/plain": [
       "5978"
      ]
     },
     "execution_count": 66,
     "metadata": {},
     "output_type": "execute_result"
    }
   ],
   "source": [
    "group_test = test.groupby(pd.DatetimeIndex(test['published']).date).published.count()\n",
    "len(group_test)"
   ]
  },
  {
   "cell_type": "code",
   "execution_count": 67,
   "metadata": {
    "collapsed": false
   },
   "outputs": [
    {
     "data": {
      "text/html": [
       "<div>\n",
       "<style>\n",
       "    .dataframe thead tr:only-child th {\n",
       "        text-align: right;\n",
       "    }\n",
       "\n",
       "    .dataframe thead th {\n",
       "        text-align: left;\n",
       "    }\n",
       "\n",
       "    .dataframe tbody tr th {\n",
       "        vertical-align: top;\n",
       "    }\n",
       "</style>\n",
       "<table border=\"1\" class=\"dataframe\">\n",
       "  <thead>\n",
       "    <tr style=\"text-align: right;\">\n",
       "      <th></th>\n",
       "      <th>index</th>\n",
       "      <th>published</th>\n",
       "    </tr>\n",
       "  </thead>\n",
       "  <tbody>\n",
       "    <tr>\n",
       "      <th>0</th>\n",
       "      <td>1999-11-16</td>\n",
       "      <td>1</td>\n",
       "    </tr>\n",
       "    <tr>\n",
       "      <th>1</th>\n",
       "      <td>1999-12-19</td>\n",
       "      <td>1</td>\n",
       "    </tr>\n",
       "    <tr>\n",
       "      <th>2</th>\n",
       "      <td>2000-02-02</td>\n",
       "      <td>1</td>\n",
       "    </tr>\n",
       "    <tr>\n",
       "      <th>3</th>\n",
       "      <td>2000-02-22</td>\n",
       "      <td>1</td>\n",
       "    </tr>\n",
       "    <tr>\n",
       "      <th>4</th>\n",
       "      <td>2000-02-26</td>\n",
       "      <td>1</td>\n",
       "    </tr>\n",
       "  </tbody>\n",
       "</table>\n",
       "</div>"
      ],
      "text/plain": [
       "        index  published\n",
       "0  1999-11-16          1\n",
       "1  1999-12-19          1\n",
       "2  2000-02-02          1\n",
       "3  2000-02-22          1\n",
       "4  2000-02-26          1"
      ]
     },
     "execution_count": 67,
     "metadata": {},
     "output_type": "execute_result"
    }
   ],
   "source": [
    "group_df = group_test.to_frame().reset_index()\n",
    "group_df.head()"
   ]
  },
  {
   "cell_type": "code",
   "execution_count": 71,
   "metadata": {
    "collapsed": false
   },
   "outputs": [
    {
     "data": {
      "text/html": [
       "<div>\n",
       "<style>\n",
       "    .dataframe thead tr:only-child th {\n",
       "        text-align: right;\n",
       "    }\n",
       "\n",
       "    .dataframe thead th {\n",
       "        text-align: left;\n",
       "    }\n",
       "\n",
       "    .dataframe tbody tr th {\n",
       "        vertical-align: top;\n",
       "    }\n",
       "</style>\n",
       "<table border=\"1\" class=\"dataframe\">\n",
       "  <thead>\n",
       "    <tr style=\"text-align: right;\">\n",
       "      <th></th>\n",
       "      <th>published</th>\n",
       "      <th>count</th>\n",
       "      <th>name</th>\n",
       "    </tr>\n",
       "  </thead>\n",
       "  <tbody>\n",
       "    <tr>\n",
       "      <th>0</th>\n",
       "      <td>1999-11-16</td>\n",
       "      <td>1</td>\n",
       "      <td>Harry P.</td>\n",
       "    </tr>\n",
       "    <tr>\n",
       "      <th>1</th>\n",
       "      <td>1999-12-19</td>\n",
       "      <td>1</td>\n",
       "      <td>Harry P.</td>\n",
       "    </tr>\n",
       "    <tr>\n",
       "      <th>2</th>\n",
       "      <td>2000-02-02</td>\n",
       "      <td>1</td>\n",
       "      <td>Harry P.</td>\n",
       "    </tr>\n",
       "    <tr>\n",
       "      <th>3</th>\n",
       "      <td>2000-02-22</td>\n",
       "      <td>1</td>\n",
       "      <td>Harry P.</td>\n",
       "    </tr>\n",
       "    <tr>\n",
       "      <th>4</th>\n",
       "      <td>2000-02-26</td>\n",
       "      <td>1</td>\n",
       "      <td>Harry P.</td>\n",
       "    </tr>\n",
       "  </tbody>\n",
       "</table>\n",
       "</div>"
      ],
      "text/plain": [
       "    published  count      name\n",
       "0  1999-11-16      1  Harry P.\n",
       "1  1999-12-19      1  Harry P.\n",
       "2  2000-02-02      1  Harry P.\n",
       "3  2000-02-22      1  Harry P.\n",
       "4  2000-02-26      1  Harry P."
      ]
     },
     "execution_count": 71,
     "metadata": {},
     "output_type": "execute_result"
    }
   ],
   "source": [
    "group_df.columns=['published','count','name']\n",
    "group_df.head()"
   ]
  },
  {
   "cell_type": "code",
   "execution_count": 68,
   "metadata": {
    "collapsed": false
   },
   "outputs": [],
   "source": [
    "group_df['name'] = 'Harry P.'"
   ]
  },
  {
   "cell_type": "code",
   "execution_count": 86,
   "metadata": {
    "collapsed": true
   },
   "outputs": [],
   "source": [
    "def getCharacterDf(character_name):\n",
    "    character = min_df[min_df['characters'].apply(lambda x: character_name in x)]\n",
    "    grouped = character.groupby(pd.DatetimeIndex(character['published']).date).published.count()\n",
    "    grouped_df = grouped.to_frame().reset_index()\n",
    "    grouped_df['name'] = character_mapping[character_name]\n",
    "    grouped_df.columns=['published', 'count', 'name']\n",
    "    return grouped_df"
   ]
  },
  {
   "cell_type": "code",
   "execution_count": 80,
   "metadata": {
    "collapsed": false
   },
   "outputs": [
    {
     "name": "stdout",
     "output_type": "stream",
     "text": [
      "5978\n"
     ]
    },
    {
     "data": {
      "text/html": [
       "<div>\n",
       "<style>\n",
       "    .dataframe thead tr:only-child th {\n",
       "        text-align: right;\n",
       "    }\n",
       "\n",
       "    .dataframe thead th {\n",
       "        text-align: left;\n",
       "    }\n",
       "\n",
       "    .dataframe tbody tr th {\n",
       "        vertical-align: top;\n",
       "    }\n",
       "</style>\n",
       "<table border=\"1\" class=\"dataframe\">\n",
       "  <thead>\n",
       "    <tr style=\"text-align: right;\">\n",
       "      <th></th>\n",
       "      <th>published,</th>\n",
       "      <th>count</th>\n",
       "      <th>name</th>\n",
       "    </tr>\n",
       "  </thead>\n",
       "  <tbody>\n",
       "    <tr>\n",
       "      <th>0</th>\n",
       "      <td>1999-11-16</td>\n",
       "      <td>1</td>\n",
       "      <td>Harry Potter</td>\n",
       "    </tr>\n",
       "    <tr>\n",
       "      <th>1</th>\n",
       "      <td>1999-12-19</td>\n",
       "      <td>1</td>\n",
       "      <td>Harry Potter</td>\n",
       "    </tr>\n",
       "    <tr>\n",
       "      <th>2</th>\n",
       "      <td>2000-02-02</td>\n",
       "      <td>1</td>\n",
       "      <td>Harry Potter</td>\n",
       "    </tr>\n",
       "    <tr>\n",
       "      <th>3</th>\n",
       "      <td>2000-02-22</td>\n",
       "      <td>1</td>\n",
       "      <td>Harry Potter</td>\n",
       "    </tr>\n",
       "    <tr>\n",
       "      <th>4</th>\n",
       "      <td>2000-02-26</td>\n",
       "      <td>1</td>\n",
       "      <td>Harry Potter</td>\n",
       "    </tr>\n",
       "  </tbody>\n",
       "</table>\n",
       "</div>"
      ],
      "text/plain": [
       "   published,  count          name\n",
       "0  1999-11-16      1  Harry Potter\n",
       "1  1999-12-19      1  Harry Potter\n",
       "2  2000-02-02      1  Harry Potter\n",
       "3  2000-02-22      1  Harry Potter\n",
       "4  2000-02-26      1  Harry Potter"
      ]
     },
     "execution_count": 80,
     "metadata": {},
     "output_type": "execute_result"
    }
   ],
   "source": [
    "harry = getCharacterDf('Harry P.')\n",
    "print(len(harry))\n",
    "harry.head()"
   ]
  },
  {
   "cell_type": "code",
   "execution_count": 78,
   "metadata": {
    "collapsed": false
   },
   "outputs": [
    {
     "data": {
      "text/html": [
       "<div>\n",
       "<style>\n",
       "    .dataframe thead tr:only-child th {\n",
       "        text-align: right;\n",
       "    }\n",
       "\n",
       "    .dataframe thead th {\n",
       "        text-align: left;\n",
       "    }\n",
       "\n",
       "    .dataframe tbody tr th {\n",
       "        vertical-align: top;\n",
       "    }\n",
       "</style>\n",
       "<table border=\"1\" class=\"dataframe\">\n",
       "  <thead>\n",
       "    <tr style=\"text-align: right;\">\n",
       "      <th></th>\n",
       "      <th>characters</th>\n",
       "      <th>published</th>\n",
       "    </tr>\n",
       "  </thead>\n",
       "  <tbody>\n",
       "    <tr>\n",
       "      <th>1657629</th>\n",
       "      <td>[Harry P.]</td>\n",
       "      <td>2007-04-25 10:01:24</td>\n",
       "    </tr>\n",
       "    <tr>\n",
       "      <th>684</th>\n",
       "      <td>[Lily Evans P., James P.]</td>\n",
       "      <td>1999-10-21 07:00:00</td>\n",
       "    </tr>\n",
       "    <tr>\n",
       "      <th>3476</th>\n",
       "      <td>[Harry P., Lily Evans P.]</td>\n",
       "      <td>1999-11-16 08:00:00</td>\n",
       "    </tr>\n",
       "    <tr>\n",
       "      <th>7795</th>\n",
       "      <td>[Harry P., Hermione G.]</td>\n",
       "      <td>1999-12-19 08:00:00</td>\n",
       "    </tr>\n",
       "    <tr>\n",
       "      <th>5111</th>\n",
       "      <td>[Ginny W., Ron W.]</td>\n",
       "      <td>2000-01-03 08:00:00</td>\n",
       "    </tr>\n",
       "  </tbody>\n",
       "</table>\n",
       "</div>"
      ],
      "text/plain": [
       "                        characters           published\n",
       "1657629                 [Harry P.] 2007-04-25 10:01:24\n",
       "684      [Lily Evans P., James P.] 1999-10-21 07:00:00\n",
       "3476     [Harry P., Lily Evans P.] 1999-11-16 08:00:00\n",
       "7795       [Harry P., Hermione G.] 1999-12-19 08:00:00\n",
       "5111            [Ginny W., Ron W.] 2000-01-03 08:00:00"
      ]
     },
     "execution_count": 78,
     "metadata": {},
     "output_type": "execute_result"
    }
   ],
   "source": [
    "min_df.head()"
   ]
  },
  {
   "cell_type": "code",
   "execution_count": 81,
   "metadata": {
    "collapsed": false
   },
   "outputs": [],
   "source": [
    "character_df_array = []\n",
    "for name in list(character_mapping.keys()):\n",
    "    result = getCharacterDf(name)\n",
    "    character_df_array.append(result)"
   ]
  },
  {
   "cell_type": "code",
   "execution_count": 82,
   "metadata": {
    "collapsed": false
   },
   "outputs": [
    {
     "data": {
      "text/plain": [
       "59418"
      ]
     },
     "execution_count": 82,
     "metadata": {},
     "output_type": "execute_result"
    }
   ],
   "source": [
    "all_character_df = pd.concat(character_df_array)\n",
    "len(all_character_df)"
   ]
  },
  {
   "cell_type": "code",
   "execution_count": 83,
   "metadata": {
    "collapsed": false
   },
   "outputs": [
    {
     "data": {
      "text/html": [
       "<div>\n",
       "<style>\n",
       "    .dataframe thead tr:only-child th {\n",
       "        text-align: right;\n",
       "    }\n",
       "\n",
       "    .dataframe thead th {\n",
       "        text-align: left;\n",
       "    }\n",
       "\n",
       "    .dataframe tbody tr th {\n",
       "        vertical-align: top;\n",
       "    }\n",
       "</style>\n",
       "<table border=\"1\" class=\"dataframe\">\n",
       "  <thead>\n",
       "    <tr style=\"text-align: right;\">\n",
       "      <th></th>\n",
       "      <th>published,</th>\n",
       "      <th>count</th>\n",
       "      <th>name</th>\n",
       "    </tr>\n",
       "  </thead>\n",
       "  <tbody>\n",
       "    <tr>\n",
       "      <th>0</th>\n",
       "      <td>1999-11-16</td>\n",
       "      <td>1</td>\n",
       "      <td>Harry Potter</td>\n",
       "    </tr>\n",
       "    <tr>\n",
       "      <th>1</th>\n",
       "      <td>1999-12-19</td>\n",
       "      <td>1</td>\n",
       "      <td>Harry Potter</td>\n",
       "    </tr>\n",
       "    <tr>\n",
       "      <th>2</th>\n",
       "      <td>2000-02-02</td>\n",
       "      <td>1</td>\n",
       "      <td>Harry Potter</td>\n",
       "    </tr>\n",
       "    <tr>\n",
       "      <th>3</th>\n",
       "      <td>2000-02-22</td>\n",
       "      <td>1</td>\n",
       "      <td>Harry Potter</td>\n",
       "    </tr>\n",
       "    <tr>\n",
       "      <th>4</th>\n",
       "      <td>2000-02-26</td>\n",
       "      <td>1</td>\n",
       "      <td>Harry Potter</td>\n",
       "    </tr>\n",
       "  </tbody>\n",
       "</table>\n",
       "</div>"
      ],
      "text/plain": [
       "   published,  count          name\n",
       "0  1999-11-16      1  Harry Potter\n",
       "1  1999-12-19      1  Harry Potter\n",
       "2  2000-02-02      1  Harry Potter\n",
       "3  2000-02-22      1  Harry Potter\n",
       "4  2000-02-26      1  Harry Potter"
      ]
     },
     "execution_count": 83,
     "metadata": {},
     "output_type": "execute_result"
    }
   ],
   "source": [
    "all_character_df.head()"
   ]
  },
  {
   "cell_type": "code",
   "execution_count": 84,
   "metadata": {
    "collapsed": false
   },
   "outputs": [
    {
     "data": {
      "text/html": [
       "<div>\n",
       "<style>\n",
       "    .dataframe thead tr:only-child th {\n",
       "        text-align: right;\n",
       "    }\n",
       "\n",
       "    .dataframe thead th {\n",
       "        text-align: left;\n",
       "    }\n",
       "\n",
       "    .dataframe tbody tr th {\n",
       "        vertical-align: top;\n",
       "    }\n",
       "</style>\n",
       "<table border=\"1\" class=\"dataframe\">\n",
       "  <thead>\n",
       "    <tr style=\"text-align: right;\">\n",
       "      <th></th>\n",
       "      <th>published,</th>\n",
       "      <th>count</th>\n",
       "      <th>name</th>\n",
       "    </tr>\n",
       "  </thead>\n",
       "  <tbody>\n",
       "    <tr>\n",
       "      <th>2792</th>\n",
       "      <td>2017-07-20</td>\n",
       "      <td>2</td>\n",
       "      <td>Albus Severus Potter</td>\n",
       "    </tr>\n",
       "    <tr>\n",
       "      <th>2793</th>\n",
       "      <td>2017-07-23</td>\n",
       "      <td>2</td>\n",
       "      <td>Albus Severus Potter</td>\n",
       "    </tr>\n",
       "    <tr>\n",
       "      <th>2794</th>\n",
       "      <td>2017-07-27</td>\n",
       "      <td>1</td>\n",
       "      <td>Albus Severus Potter</td>\n",
       "    </tr>\n",
       "    <tr>\n",
       "      <th>2795</th>\n",
       "      <td>2017-07-28</td>\n",
       "      <td>4</td>\n",
       "      <td>Albus Severus Potter</td>\n",
       "    </tr>\n",
       "    <tr>\n",
       "      <th>2796</th>\n",
       "      <td>2017-07-29</td>\n",
       "      <td>1</td>\n",
       "      <td>Albus Severus Potter</td>\n",
       "    </tr>\n",
       "  </tbody>\n",
       "</table>\n",
       "</div>"
      ],
      "text/plain": [
       "      published,  count                  name\n",
       "2792  2017-07-20      2  Albus Severus Potter\n",
       "2793  2017-07-23      2  Albus Severus Potter\n",
       "2794  2017-07-27      1  Albus Severus Potter\n",
       "2795  2017-07-28      4  Albus Severus Potter\n",
       "2796  2017-07-29      1  Albus Severus Potter"
      ]
     },
     "execution_count": 84,
     "metadata": {},
     "output_type": "execute_result"
    }
   ],
   "source": [
    "all_character_df.tail()"
   ]
  },
  {
   "cell_type": "code",
   "execution_count": 85,
   "metadata": {
    "collapsed": true
   },
   "outputs": [],
   "source": [
    "all_character_df.to_csv('../data/char-pub-grouped.csv', index=False)"
   ]
  },
  {
   "cell_type": "code",
   "execution_count": null,
   "metadata": {
    "collapsed": true
   },
   "outputs": [],
   "source": []
  }
 ],
 "metadata": {
  "kernelspec": {
   "display_name": "Python 3",
   "language": "python",
   "name": "python3"
  },
  "language_info": {
   "codemirror_mode": {
    "name": "ipython",
    "version": 3
   },
   "file_extension": ".py",
   "mimetype": "text/x-python",
   "name": "python",
   "nbconvert_exporter": "python",
   "pygments_lexer": "ipython3",
   "version": "3.6.2"
  }
 },
 "nbformat": 4,
 "nbformat_minor": 2
}
