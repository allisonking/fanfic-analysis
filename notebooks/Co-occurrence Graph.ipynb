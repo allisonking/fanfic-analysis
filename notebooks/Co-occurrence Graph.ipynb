{
 "cells": [
  {
   "cell_type": "markdown",
   "metadata": {},
   "source": [
    "### Read in the data"
   ]
  },
  {
   "cell_type": "code",
   "execution_count": 78,
   "metadata": {
    "collapsed": true
   },
   "outputs": [],
   "source": [
    "import pandas as pd\n",
    "import numpy as np\n",
    "\n",
    "df = pd.read_csv('../data/cooccurrence.csv')"
   ]
  },
  {
   "cell_type": "code",
   "execution_count": 3,
   "metadata": {
    "collapsed": false
   },
   "outputs": [
    {
     "data": {
      "text/html": [
       "<div>\n",
       "<style>\n",
       "    .dataframe thead tr:only-child th {\n",
       "        text-align: right;\n",
       "    }\n",
       "\n",
       "    .dataframe thead th {\n",
       "        text-align: left;\n",
       "    }\n",
       "\n",
       "    .dataframe tbody tr th {\n",
       "        vertical-align: top;\n",
       "    }\n",
       "</style>\n",
       "<table border=\"1\" class=\"dataframe\">\n",
       "  <thead>\n",
       "    <tr style=\"text-align: right;\">\n",
       "      <th></th>\n",
       "      <th>Unnamed: 0</th>\n",
       "      <th>A. Dippet</th>\n",
       "      <th>A. Kirke</th>\n",
       "      <th>A. Lynch</th>\n",
       "      <th>A. Pye</th>\n",
       "      <th>A. Sinistra</th>\n",
       "      <th>Aberforth D.</th>\n",
       "      <th>Abraxas M.</th>\n",
       "      <th>Adrian P.</th>\n",
       "      <th>Alastor M.</th>\n",
       "      <th>...</th>\n",
       "      <th>Whomping Willow</th>\n",
       "      <th>William S.</th>\n",
       "      <th>William the Pukwudgie</th>\n",
       "      <th>Winky</th>\n",
       "      <th>Xenophilius L.</th>\n",
       "      <th>Yaxley</th>\n",
       "      <th>Zacharias S.</th>\n",
       "      <th>Zacharias S.] Megan J.</th>\n",
       "      <th>Zhang Fei</th>\n",
       "      <th>Úrsula F.</th>\n",
       "    </tr>\n",
       "  </thead>\n",
       "  <tbody>\n",
       "    <tr>\n",
       "      <th>NaN</th>\n",
       "      <td>1</td>\n",
       "      <td>0</td>\n",
       "      <td>0</td>\n",
       "      <td>0</td>\n",
       "      <td>0</td>\n",
       "      <td>0</td>\n",
       "      <td>0</td>\n",
       "      <td>0</td>\n",
       "      <td>0</td>\n",
       "      <td>0</td>\n",
       "      <td>...</td>\n",
       "      <td>0</td>\n",
       "      <td>0</td>\n",
       "      <td>0</td>\n",
       "      <td>0</td>\n",
       "      <td>0</td>\n",
       "      <td>0</td>\n",
       "      <td>0</td>\n",
       "      <td>0</td>\n",
       "      <td>0</td>\n",
       "      <td>0</td>\n",
       "    </tr>\n",
       "    <tr>\n",
       "      <th>A. Dippet</th>\n",
       "      <td>0</td>\n",
       "      <td>24</td>\n",
       "      <td>0</td>\n",
       "      <td>0</td>\n",
       "      <td>0</td>\n",
       "      <td>0</td>\n",
       "      <td>0</td>\n",
       "      <td>0</td>\n",
       "      <td>0</td>\n",
       "      <td>1</td>\n",
       "      <td>...</td>\n",
       "      <td>0</td>\n",
       "      <td>0</td>\n",
       "      <td>0</td>\n",
       "      <td>0</td>\n",
       "      <td>0</td>\n",
       "      <td>0</td>\n",
       "      <td>0</td>\n",
       "      <td>0</td>\n",
       "      <td>0</td>\n",
       "      <td>0</td>\n",
       "    </tr>\n",
       "    <tr>\n",
       "      <th>A. Kirke</th>\n",
       "      <td>0</td>\n",
       "      <td>0</td>\n",
       "      <td>11</td>\n",
       "      <td>0</td>\n",
       "      <td>0</td>\n",
       "      <td>0</td>\n",
       "      <td>0</td>\n",
       "      <td>0</td>\n",
       "      <td>0</td>\n",
       "      <td>0</td>\n",
       "      <td>...</td>\n",
       "      <td>0</td>\n",
       "      <td>0</td>\n",
       "      <td>0</td>\n",
       "      <td>0</td>\n",
       "      <td>0</td>\n",
       "      <td>0</td>\n",
       "      <td>0</td>\n",
       "      <td>0</td>\n",
       "      <td>0</td>\n",
       "      <td>0</td>\n",
       "    </tr>\n",
       "    <tr>\n",
       "      <th>A. Lynch</th>\n",
       "      <td>0</td>\n",
       "      <td>0</td>\n",
       "      <td>0</td>\n",
       "      <td>13</td>\n",
       "      <td>0</td>\n",
       "      <td>0</td>\n",
       "      <td>1</td>\n",
       "      <td>0</td>\n",
       "      <td>0</td>\n",
       "      <td>0</td>\n",
       "      <td>...</td>\n",
       "      <td>0</td>\n",
       "      <td>0</td>\n",
       "      <td>0</td>\n",
       "      <td>0</td>\n",
       "      <td>0</td>\n",
       "      <td>0</td>\n",
       "      <td>0</td>\n",
       "      <td>0</td>\n",
       "      <td>0</td>\n",
       "      <td>0</td>\n",
       "    </tr>\n",
       "    <tr>\n",
       "      <th>A. Pye</th>\n",
       "      <td>0</td>\n",
       "      <td>0</td>\n",
       "      <td>0</td>\n",
       "      <td>0</td>\n",
       "      <td>3</td>\n",
       "      <td>0</td>\n",
       "      <td>0</td>\n",
       "      <td>0</td>\n",
       "      <td>0</td>\n",
       "      <td>0</td>\n",
       "      <td>...</td>\n",
       "      <td>0</td>\n",
       "      <td>0</td>\n",
       "      <td>0</td>\n",
       "      <td>0</td>\n",
       "      <td>0</td>\n",
       "      <td>0</td>\n",
       "      <td>0</td>\n",
       "      <td>0</td>\n",
       "      <td>0</td>\n",
       "      <td>0</td>\n",
       "    </tr>\n",
       "  </tbody>\n",
       "</table>\n",
       "<p>5 rows × 414 columns</p>\n",
       "</div>"
      ],
      "text/plain": [
       "           Unnamed: 0  A. Dippet  A. Kirke  A. Lynch  A. Pye  A. Sinistra  \\\n",
       "NaN                 1          0         0         0       0            0   \n",
       "A. Dippet           0         24         0         0       0            0   \n",
       "A. Kirke            0          0        11         0       0            0   \n",
       "A. Lynch            0          0         0        13       0            0   \n",
       "A. Pye              0          0         0         0       3            0   \n",
       "\n",
       "           Aberforth D.  Abraxas M.  Adrian P.  Alastor M.    ...      \\\n",
       "NaN                   0           0          0           0    ...       \n",
       "A. Dippet             0           0          0           1    ...       \n",
       "A. Kirke              0           0          0           0    ...       \n",
       "A. Lynch              1           0          0           0    ...       \n",
       "A. Pye                0           0          0           0    ...       \n",
       "\n",
       "           Whomping Willow  William S.  William the Pukwudgie  Winky  \\\n",
       "NaN                      0           0                      0      0   \n",
       "A. Dippet                0           0                      0      0   \n",
       "A. Kirke                 0           0                      0      0   \n",
       "A. Lynch                 0           0                      0      0   \n",
       "A. Pye                   0           0                      0      0   \n",
       "\n",
       "           Xenophilius L.  Yaxley  Zacharias S.  Zacharias S.] Megan J.  \\\n",
       "NaN                     0       0             0                       0   \n",
       "A. Dippet               0       0             0                       0   \n",
       "A. Kirke                0       0             0                       0   \n",
       "A. Lynch                0       0             0                       0   \n",
       "A. Pye                  0       0             0                       0   \n",
       "\n",
       "           Zhang Fei  Úrsula F.  \n",
       "NaN                0          0  \n",
       "A. Dippet          0          0  \n",
       "A. Kirke           0          0  \n",
       "A. Lynch           0          0  \n",
       "A. Pye             0          0  \n",
       "\n",
       "[5 rows x 414 columns]"
      ]
     },
     "execution_count": 3,
     "metadata": {},
     "output_type": "execute_result"
    }
   ],
   "source": [
    "df.head()"
   ]
  },
  {
   "cell_type": "markdown",
   "metadata": {},
   "source": [
    "### Some minor clean up \n",
    "See 'co-occurrence cleaned' notebook for reasoning"
   ]
  },
  {
   "cell_type": "code",
   "execution_count": 4,
   "metadata": {
    "collapsed": false
   },
   "outputs": [
    {
     "data": {
      "text/html": [
       "<div>\n",
       "<style>\n",
       "    .dataframe thead tr:only-child th {\n",
       "        text-align: right;\n",
       "    }\n",
       "\n",
       "    .dataframe thead th {\n",
       "        text-align: left;\n",
       "    }\n",
       "\n",
       "    .dataframe tbody tr th {\n",
       "        vertical-align: top;\n",
       "    }\n",
       "</style>\n",
       "<table border=\"1\" class=\"dataframe\">\n",
       "  <thead>\n",
       "    <tr style=\"text-align: right;\">\n",
       "      <th></th>\n",
       "      <th>A. Dippet</th>\n",
       "      <th>A. Kirke</th>\n",
       "      <th>A. Lynch</th>\n",
       "      <th>A. Pye</th>\n",
       "      <th>A. Sinistra</th>\n",
       "      <th>Aberforth D.</th>\n",
       "      <th>Abraxas M.</th>\n",
       "      <th>Adrian P.</th>\n",
       "      <th>Alastor M.</th>\n",
       "      <th>Albert R.</th>\n",
       "      <th>...</th>\n",
       "      <th>Whomping Willow</th>\n",
       "      <th>William S.</th>\n",
       "      <th>William the Pukwudgie</th>\n",
       "      <th>Winky</th>\n",
       "      <th>Xenophilius L.</th>\n",
       "      <th>Yaxley</th>\n",
       "      <th>Zacharias S.</th>\n",
       "      <th>Zacharias S.] Megan J.</th>\n",
       "      <th>Zhang Fei</th>\n",
       "      <th>Úrsula F.</th>\n",
       "    </tr>\n",
       "  </thead>\n",
       "  <tbody>\n",
       "    <tr>\n",
       "      <th>A. Dippet</th>\n",
       "      <td>24</td>\n",
       "      <td>0</td>\n",
       "      <td>0</td>\n",
       "      <td>0</td>\n",
       "      <td>0</td>\n",
       "      <td>0</td>\n",
       "      <td>0</td>\n",
       "      <td>0</td>\n",
       "      <td>1</td>\n",
       "      <td>0</td>\n",
       "      <td>...</td>\n",
       "      <td>0</td>\n",
       "      <td>0</td>\n",
       "      <td>0</td>\n",
       "      <td>0</td>\n",
       "      <td>0</td>\n",
       "      <td>0</td>\n",
       "      <td>0</td>\n",
       "      <td>0</td>\n",
       "      <td>0</td>\n",
       "      <td>0</td>\n",
       "    </tr>\n",
       "    <tr>\n",
       "      <th>A. Kirke</th>\n",
       "      <td>0</td>\n",
       "      <td>11</td>\n",
       "      <td>0</td>\n",
       "      <td>0</td>\n",
       "      <td>0</td>\n",
       "      <td>0</td>\n",
       "      <td>0</td>\n",
       "      <td>0</td>\n",
       "      <td>0</td>\n",
       "      <td>0</td>\n",
       "      <td>...</td>\n",
       "      <td>0</td>\n",
       "      <td>0</td>\n",
       "      <td>0</td>\n",
       "      <td>0</td>\n",
       "      <td>0</td>\n",
       "      <td>0</td>\n",
       "      <td>0</td>\n",
       "      <td>0</td>\n",
       "      <td>0</td>\n",
       "      <td>0</td>\n",
       "    </tr>\n",
       "    <tr>\n",
       "      <th>A. Lynch</th>\n",
       "      <td>0</td>\n",
       "      <td>0</td>\n",
       "      <td>13</td>\n",
       "      <td>0</td>\n",
       "      <td>0</td>\n",
       "      <td>1</td>\n",
       "      <td>0</td>\n",
       "      <td>0</td>\n",
       "      <td>0</td>\n",
       "      <td>0</td>\n",
       "      <td>...</td>\n",
       "      <td>0</td>\n",
       "      <td>0</td>\n",
       "      <td>0</td>\n",
       "      <td>0</td>\n",
       "      <td>0</td>\n",
       "      <td>0</td>\n",
       "      <td>0</td>\n",
       "      <td>0</td>\n",
       "      <td>0</td>\n",
       "      <td>0</td>\n",
       "    </tr>\n",
       "    <tr>\n",
       "      <th>A. Pye</th>\n",
       "      <td>0</td>\n",
       "      <td>0</td>\n",
       "      <td>0</td>\n",
       "      <td>3</td>\n",
       "      <td>0</td>\n",
       "      <td>0</td>\n",
       "      <td>0</td>\n",
       "      <td>0</td>\n",
       "      <td>0</td>\n",
       "      <td>0</td>\n",
       "      <td>...</td>\n",
       "      <td>0</td>\n",
       "      <td>0</td>\n",
       "      <td>0</td>\n",
       "      <td>0</td>\n",
       "      <td>0</td>\n",
       "      <td>0</td>\n",
       "      <td>0</td>\n",
       "      <td>0</td>\n",
       "      <td>0</td>\n",
       "      <td>0</td>\n",
       "    </tr>\n",
       "    <tr>\n",
       "      <th>A. Sinistra</th>\n",
       "      <td>0</td>\n",
       "      <td>0</td>\n",
       "      <td>0</td>\n",
       "      <td>0</td>\n",
       "      <td>175</td>\n",
       "      <td>0</td>\n",
       "      <td>0</td>\n",
       "      <td>0</td>\n",
       "      <td>1</td>\n",
       "      <td>0</td>\n",
       "      <td>...</td>\n",
       "      <td>0</td>\n",
       "      <td>0</td>\n",
       "      <td>0</td>\n",
       "      <td>0</td>\n",
       "      <td>0</td>\n",
       "      <td>0</td>\n",
       "      <td>0</td>\n",
       "      <td>0</td>\n",
       "      <td>0</td>\n",
       "      <td>0</td>\n",
       "    </tr>\n",
       "  </tbody>\n",
       "</table>\n",
       "<p>5 rows × 413 columns</p>\n",
       "</div>"
      ],
      "text/plain": [
       "             A. Dippet  A. Kirke  A. Lynch  A. Pye  A. Sinistra  Aberforth D.  \\\n",
       "A. Dippet           24         0         0       0            0             0   \n",
       "A. Kirke             0        11         0       0            0             0   \n",
       "A. Lynch             0         0        13       0            0             1   \n",
       "A. Pye               0         0         0       3            0             0   \n",
       "A. Sinistra          0         0         0       0          175             0   \n",
       "\n",
       "             Abraxas M.  Adrian P.  Alastor M.  Albert R.    ...      \\\n",
       "A. Dippet             0          0           1          0    ...       \n",
       "A. Kirke              0          0           0          0    ...       \n",
       "A. Lynch              0          0           0          0    ...       \n",
       "A. Pye                0          0           0          0    ...       \n",
       "A. Sinistra           0          0           1          0    ...       \n",
       "\n",
       "             Whomping Willow  William S.  William the Pukwudgie  Winky  \\\n",
       "A. Dippet                  0           0                      0      0   \n",
       "A. Kirke                   0           0                      0      0   \n",
       "A. Lynch                   0           0                      0      0   \n",
       "A. Pye                     0           0                      0      0   \n",
       "A. Sinistra                0           0                      0      0   \n",
       "\n",
       "             Xenophilius L.  Yaxley  Zacharias S.  Zacharias S.] Megan J.  \\\n",
       "A. Dippet                 0       0             0                       0   \n",
       "A. Kirke                  0       0             0                       0   \n",
       "A. Lynch                  0       0             0                       0   \n",
       "A. Pye                    0       0             0                       0   \n",
       "A. Sinistra               0       0             0                       0   \n",
       "\n",
       "             Zhang Fei  Úrsula F.  \n",
       "A. Dippet            0          0  \n",
       "A. Kirke             0          0  \n",
       "A. Lynch             0          0  \n",
       "A. Pye               0          0  \n",
       "A. Sinistra          0          0  \n",
       "\n",
       "[5 rows x 413 columns]"
      ]
     },
     "execution_count": 4,
     "metadata": {},
     "output_type": "execute_result"
    }
   ],
   "source": [
    "df.drop(df.index[0], inplace=True)\n",
    "df.drop('Unnamed: 0', axis=1, inplace=True)\n",
    "df.head()"
   ]
  },
  {
   "cell_type": "code",
   "execution_count": 33,
   "metadata": {
    "collapsed": false
   },
   "outputs": [],
   "source": [
    "all_characters = []\n",
    "for name in df.keys():\n",
    "    all_characters.append({'name': name, 'count': df[name][name]})\n",
    "    \n",
    "sorted_characters = sorted(all_characters, key=lambda x: x['count'], reverse = True)"
   ]
  },
  {
   "cell_type": "markdown",
   "metadata": {},
   "source": [
    "### Build node link json\n",
    "In order to get this as a graph, we need nodes and links. I decided to structure this based off of [miserables.json](https://github.com/d3/d3-plugins/blob/master/graph/data/miserables.json).\n",
    "\n",
    "We'll only look at the first 20 characters and their relations in order to keep the graph not too busy."
   ]
  },
  {
   "cell_type": "code",
   "execution_count": 34,
   "metadata": {
    "collapsed": false
   },
   "outputs": [
    {
     "data": {
      "text/plain": [
       "[{'count': 151951, 'name': 'Harry P.'},\n",
       " {'count': 127244, 'name': 'Hermione G.'},\n",
       " {'count': 110555, 'name': 'Draco M.'},\n",
       " {'count': 50641, 'name': 'Severus S.'},\n",
       " {'count': 46677, 'name': 'Lily Evans P.'},\n",
       " {'count': 45143, 'name': 'James P.'},\n",
       " {'count': 44733, 'name': 'Sirius B.'},\n",
       " {'count': 44599, 'name': 'Ginny W.'},\n",
       " {'count': 38037, 'name': 'Ron W.'},\n",
       " {'count': 37010, 'name': 'Remus L.'},\n",
       " {'count': 32822, 'name': 'OC'},\n",
       " {'count': 13813, 'name': 'Scorpius M.'},\n",
       " {'count': 12353, 'name': 'Voldemort'},\n",
       " {'count': 11944, 'name': 'George W.'},\n",
       " {'count': 11735, 'name': 'Luna L.'},\n",
       " {'count': 10712, 'name': 'Fred W.'},\n",
       " {'count': 10372, 'name': 'Albus D.'},\n",
       " {'count': 10266, 'name': 'Rose W.'},\n",
       " {'count': 8514, 'name': 'N. Tonks'},\n",
       " {'count': 7498, 'name': 'Tom R. Jr.'}]"
      ]
     },
     "execution_count": 34,
     "metadata": {},
     "output_type": "execute_result"
    }
   ],
   "source": [
    "num_characters = 20\n",
    "sorted_characters[:num_characters]"
   ]
  },
  {
   "cell_type": "markdown",
   "metadata": {},
   "source": [
    "Let's keep a list of the names of all of our characters that will appear on the graph. This will form the basis of our `nodes` list later."
   ]
  },
  {
   "cell_type": "code",
   "execution_count": 52,
   "metadata": {
    "collapsed": false
   },
   "outputs": [],
   "source": [
    "names_only = []\n",
    "for character in sorted_characters[:num_characters]:\n",
    "    names_only.append(character['name'])"
   ]
  },
  {
   "cell_type": "markdown",
   "metadata": {},
   "source": [
    "Here are some groupings I put together for the characters. This will only influence the color of the node so isn't that important. Some characters, like Tonks, were harder to categorize into a generation than others. I also refrained from sorting the next generation kids since the fandom is quite split on whether or not *Cursed Child* is part of the canon or not."
   ]
  },
  {
   "cell_type": "code",
   "execution_count": 57,
   "metadata": {
    "collapsed": false
   },
   "outputs": [],
   "source": [
    "generations = {'main_gen' : ['Harry P.', 'Hermione G.', 'Draco M.', 'Ginny W.', 'Ron W.', 'George W.', 'Luna L.', 'Fred W.',\n",
    "                       'Angelina J.', 'Neville L.', 'N. Tonks', 'Charlie W.'],\n",
    "           'marauder_gen' : ['Severus S.', 'Lily Evans P.', 'James P.', 'Sirius B.', 'Remus L.', 'Bellatrix L.'],\n",
    "           'riddle_gen' : ['Voldemort', 'Tom R. Jr.', 'Albus D.', 'Minerva M.', 'Gellert G.'],\n",
    "           'next_gen' : ['Scorpius M.', 'Rose W.', 'Albus S. P.', 'Lily Luna P.', 'James S. P.'],\n",
    "           'other' : ['OC']\n",
    "         }\n",
    "\n",
    "houses = {'Gryffindor': ['Harry P.', 'Hermione G.', 'Ginny W.', 'Ron W.', 'George W.', 'Luna L.', 'Fred W.',\n",
    "                        'Angelina J.', 'Neville L.', 'Charlie W.', 'Lily Evans P.', 'James P.' , 'Sirius B.',\n",
    "                        'Remus L.', 'Albus D.', 'Minerva M.'],\n",
    "          'Slytherin': ['Draco M.', 'Severus S.', 'Bellatrix L.', 'Voldemort', 'Tom R. Jr.'],\n",
    "          'Hufflepuff': ['N. Tonks'],\n",
    "          'other': ['Gellert G.', 'Scorpius M.', 'Rose W.', 'Albus S. P.', 'Lily Luna P.', 'James S. P.', 'OC']\n",
    "        }"
   ]
  },
  {
   "cell_type": "markdown",
   "metadata": {},
   "source": [
    "Helper function to get each character's affiliation given the character name and the group"
   ]
  },
  {
   "cell_type": "code",
   "execution_count": 61,
   "metadata": {
    "collapsed": false
   },
   "outputs": [
    {
     "data": {
      "text/plain": [
       "'Hufflepuff'"
      ]
     },
     "execution_count": 61,
     "metadata": {},
     "output_type": "execute_result"
    }
   ],
   "source": [
    "def findAffiliation(group, character):\n",
    "    for key in group.keys():\n",
    "        if character in group[key]:\n",
    "            return key;\n",
    "    \n",
    "findAffiliation(generations, 'Scorpius M.')\n",
    "findAffiliation(houses, 'N. Tonks')"
   ]
  },
  {
   "cell_type": "markdown",
   "metadata": {},
   "source": [
    "Now we can build our links!"
   ]
  },
  {
   "cell_type": "code",
   "execution_count": 87,
   "metadata": {
    "collapsed": false
   },
   "outputs": [
    {
     "name": "stdout",
     "output_type": "stream",
     "text": [
      "True\n",
      "False\n"
     ]
    }
   ],
   "source": [
    "def alreadyLinked(source, target, links):\n",
    "    for link in links:\n",
    "        if link['source'] == source and link['target'] == target:\n",
    "            return True\n",
    "    return False\n",
    "\n",
    "links = [{'source': 'Harry P.', 'target': 'Draco M.', 'value': 34761},\n",
    " {'source': 'Harry P.', 'target': 'Hermione G.', 'value': 27888},\n",
    " {'source': 'Harry P.', 'target': 'Ginny W.', 'value': 22153},\n",
    " {'source': 'Harry P.', 'target': 'Severus S.', 'value': 12273},\n",
    " {'source': 'Harry P.', 'target': 'Ron W.', 'value': 9173}]\n",
    "\n",
    "source = 'Harry P.'\n",
    "target1 = 'Ron W.'\n",
    "target2 = 'asdf'\n",
    "\n",
    "print(alreadyLinked(source, target1, links))\n",
    "print(alreadyLinked(source, target2, links))"
   ]
  },
  {
   "cell_type": "code",
   "execution_count": 90,
   "metadata": {
    "collapsed": false
   },
   "outputs": [],
   "source": [
    "links = []\n",
    "for character in sorted_characters[:num_characters]:\n",
    "    relations = df[character['name']].nlargest(6)\n",
    "    for relation in relations.keys():\n",
    "        # skip yourself\n",
    "        if relation != character['name']:\n",
    "            if relation not in names_only:\n",
    "                names_only.append(relation)\n",
    "            if not alreadyLinked(relation, character['name'], links):\n",
    "                links.append({'source': character['name'], \n",
    "                              'target': relation, \n",
    "                              'value': np.asscalar(relations[relation]) # json can't serialize np- convert to int\n",
    "                             })\n",
    "                \n",
    "                "
   ]
  },
  {
   "cell_type": "code",
   "execution_count": 91,
   "metadata": {
    "collapsed": false
   },
   "outputs": [
    {
     "data": {
      "text/plain": [
       "[{'source': 'Harry P.', 'target': 'Draco M.', 'value': 34761},\n",
       " {'source': 'Harry P.', 'target': 'Hermione G.', 'value': 27888},\n",
       " {'source': 'Harry P.', 'target': 'Ginny W.', 'value': 22153},\n",
       " {'source': 'Harry P.', 'target': 'Severus S.', 'value': 12273},\n",
       " {'source': 'Harry P.', 'target': 'Ron W.', 'value': 9173},\n",
       " {'source': 'Hermione G.', 'target': 'Draco M.', 'value': 44837},\n",
       " {'source': 'Hermione G.', 'target': 'Ron W.', 'value': 26687},\n",
       " {'source': 'Hermione G.', 'target': 'Severus S.', 'value': 11213},\n",
       " {'source': 'Hermione G.', 'target': 'Ginny W.', 'value': 3583},\n",
       " {'source': 'Draco M.', 'target': 'Ginny W.', 'value': 12946},\n",
       " {'source': 'Draco M.', 'target': 'OC', 'value': 4130},\n",
       " {'source': 'Draco M.', 'target': 'Ron W.', 'value': 2612},\n",
       " {'source': 'Severus S.', 'target': 'Lily Evans P.', 'value': 6619},\n",
       " {'source': 'Severus S.', 'target': 'OC', 'value': 2816},\n",
       " {'source': 'Severus S.', 'target': 'Remus L.', 'value': 2149},\n",
       " {'source': 'Lily Evans P.', 'target': 'James P.', 'value': 33888},\n",
       " {'source': 'Lily Evans P.', 'target': 'Sirius B.', 'value': 3648},\n",
       " {'source': 'Lily Evans P.', 'target': 'Remus L.', 'value': 2285},\n",
       " {'source': 'Lily Evans P.', 'target': 'Harry P.', 'value': 2221},\n",
       " {'source': 'James P.', 'target': 'Sirius B.', 'value': 8342},\n",
       " {'source': 'James P.', 'target': 'Remus L.', 'value': 3620},\n",
       " {'source': 'James P.', 'target': 'Harry P.', 'value': 2593},\n",
       " {'source': 'James P.', 'target': 'Severus S.', 'value': 1247},\n",
       " {'source': 'Sirius B.', 'target': 'Remus L.', 'value': 17923},\n",
       " {'source': 'Sirius B.', 'target': 'Harry P.', 'value': 4805},\n",
       " {'source': 'Sirius B.', 'target': 'OC', 'value': 4161},\n",
       " {'source': 'Ginny W.', 'target': 'Ron W.', 'value': 1646},\n",
       " {'source': 'Ginny W.', 'target': 'Tom R. Jr.', 'value': 947},\n",
       " {'source': 'Ron W.', 'target': 'OC', 'value': 747},\n",
       " {'source': 'Remus L.', 'target': 'N. Tonks', 'value': 6008},\n",
       " {'source': 'Remus L.', 'target': 'Harry P.', 'value': 2189},\n",
       " {'source': 'OC', 'target': 'Harry P.', 'value': 6345},\n",
       " {'source': 'OC', 'target': 'Hermione G.', 'value': 1795},\n",
       " {'source': 'Scorpius M.', 'target': 'Rose W.', 'value': 7893},\n",
       " {'source': 'Scorpius M.', 'target': 'Albus S. P.', 'value': 3316},\n",
       " {'source': 'Scorpius M.', 'target': 'Lily Luna P.', 'value': 1808},\n",
       " {'source': 'Scorpius M.', 'target': 'Draco M.', 'value': 930},\n",
       " {'source': 'Scorpius M.', 'target': 'OC', 'value': 690},\n",
       " {'source': 'Voldemort', 'target': 'Harry P.', 'value': 5256},\n",
       " {'source': 'Voldemort', 'target': 'Bellatrix L.', 'value': 1255},\n",
       " {'source': 'Voldemort', 'target': 'Tom R. Jr.', 'value': 796},\n",
       " {'source': 'Voldemort', 'target': 'Severus S.', 'value': 756},\n",
       " {'source': 'Voldemort', 'target': 'Hermione G.', 'value': 615},\n",
       " {'source': 'George W.', 'target': 'Fred W.', 'value': 4824},\n",
       " {'source': 'George W.', 'target': 'Hermione G.', 'value': 1699},\n",
       " {'source': 'George W.', 'target': 'OC', 'value': 1239},\n",
       " {'source': 'George W.', 'target': 'Angelina J.', 'value': 910},\n",
       " {'source': 'George W.', 'target': 'Harry P.', 'value': 810},\n",
       " {'source': 'Luna L.', 'target': 'Harry P.', 'value': 2821},\n",
       " {'source': 'Luna L.', 'target': 'Neville L.', 'value': 1929},\n",
       " {'source': 'Luna L.', 'target': 'Draco M.', 'value': 1800},\n",
       " {'source': 'Luna L.', 'target': 'Hermione G.', 'value': 1004},\n",
       " {'source': 'Luna L.', 'target': 'Ginny W.', 'value': 942},\n",
       " {'source': 'Fred W.', 'target': 'Hermione G.', 'value': 3017},\n",
       " {'source': 'Fred W.', 'target': 'OC', 'value': 1568},\n",
       " {'source': 'Fred W.', 'target': 'Harry P.', 'value': 646},\n",
       " {'source': 'Fred W.', 'target': 'Angelina J.', 'value': 549},\n",
       " {'source': 'Albus D.', 'target': 'Minerva M.', 'value': 2941},\n",
       " {'source': 'Albus D.', 'target': 'Harry P.', 'value': 2239},\n",
       " {'source': 'Albus D.', 'target': 'Severus S.', 'value': 1948},\n",
       " {'source': 'Albus D.', 'target': 'Gellert G.', 'value': 662},\n",
       " {'source': 'Albus D.', 'target': 'Voldemort', 'value': 445},\n",
       " {'source': 'Rose W.', 'target': 'Albus S. P.', 'value': 1580},\n",
       " {'source': 'Rose W.', 'target': 'James S. P.', 'value': 584},\n",
       " {'source': 'Rose W.', 'target': 'Hermione G.', 'value': 508},\n",
       " {'source': 'Rose W.', 'target': 'OC', 'value': 504},\n",
       " {'source': 'N. Tonks', 'target': 'Harry P.', 'value': 572},\n",
       " {'source': 'N. Tonks', 'target': 'Sirius B.', 'value': 350},\n",
       " {'source': 'N. Tonks', 'target': 'Charlie W.', 'value': 328},\n",
       " {'source': 'N. Tonks', 'target': 'Severus S.', 'value': 260},\n",
       " {'source': 'Tom R. Jr.', 'target': 'Harry P.', 'value': 2278},\n",
       " {'source': 'Tom R. Jr.', 'target': 'Hermione G.', 'value': 1140},\n",
       " {'source': 'Tom R. Jr.', 'target': 'OC', 'value': 926}]"
      ]
     },
     "execution_count": 91,
     "metadata": {},
     "output_type": "execute_result"
    }
   ],
   "source": [
    "links"
   ]
  },
  {
   "cell_type": "markdown",
   "metadata": {},
   "source": [
    "And our nodes!"
   ]
  },
  {
   "cell_type": "code",
   "execution_count": 92,
   "metadata": {
    "collapsed": false
   },
   "outputs": [
    {
     "data": {
      "text/plain": [
       "[{'generation': 'main_gen', 'house': 'Gryffindor', 'id': 'Harry P.'},\n",
       " {'generation': 'main_gen', 'house': 'Gryffindor', 'id': 'Hermione G.'},\n",
       " {'generation': 'main_gen', 'house': 'Slytherin', 'id': 'Draco M.'},\n",
       " {'generation': 'marauder_gen', 'house': 'Slytherin', 'id': 'Severus S.'},\n",
       " {'generation': 'marauder_gen', 'house': 'Gryffindor', 'id': 'Lily Evans P.'},\n",
       " {'generation': 'marauder_gen', 'house': 'Gryffindor', 'id': 'James P.'},\n",
       " {'generation': 'marauder_gen', 'house': 'Gryffindor', 'id': 'Sirius B.'},\n",
       " {'generation': 'main_gen', 'house': 'Gryffindor', 'id': 'Ginny W.'},\n",
       " {'generation': 'main_gen', 'house': 'Gryffindor', 'id': 'Ron W.'},\n",
       " {'generation': 'marauder_gen', 'house': 'Gryffindor', 'id': 'Remus L.'},\n",
       " {'generation': 'other', 'house': 'other', 'id': 'OC'},\n",
       " {'generation': 'next_gen', 'house': 'other', 'id': 'Scorpius M.'},\n",
       " {'generation': 'riddle_gen', 'house': 'Slytherin', 'id': 'Voldemort'},\n",
       " {'generation': 'main_gen', 'house': 'Gryffindor', 'id': 'George W.'},\n",
       " {'generation': 'main_gen', 'house': 'Gryffindor', 'id': 'Luna L.'},\n",
       " {'generation': 'main_gen', 'house': 'Gryffindor', 'id': 'Fred W.'},\n",
       " {'generation': 'riddle_gen', 'house': 'Gryffindor', 'id': 'Albus D.'},\n",
       " {'generation': 'next_gen', 'house': 'other', 'id': 'Rose W.'},\n",
       " {'generation': 'main_gen', 'house': 'Hufflepuff', 'id': 'N. Tonks'},\n",
       " {'generation': 'riddle_gen', 'house': 'Slytherin', 'id': 'Tom R. Jr.'},\n",
       " {'generation': 'next_gen', 'house': 'other', 'id': 'Albus S. P.'},\n",
       " {'generation': 'next_gen', 'house': 'other', 'id': 'Lily Luna P.'},\n",
       " {'generation': 'marauder_gen', 'house': 'Slytherin', 'id': 'Bellatrix L.'},\n",
       " {'generation': 'main_gen', 'house': 'Gryffindor', 'id': 'Angelina J.'},\n",
       " {'generation': 'main_gen', 'house': 'Gryffindor', 'id': 'Neville L.'},\n",
       " {'generation': 'riddle_gen', 'house': 'Gryffindor', 'id': 'Minerva M.'},\n",
       " {'generation': 'riddle_gen', 'house': 'other', 'id': 'Gellert G.'},\n",
       " {'generation': 'next_gen', 'house': 'other', 'id': 'James S. P.'},\n",
       " {'generation': 'main_gen', 'house': 'Gryffindor', 'id': 'Charlie W.'}]"
      ]
     },
     "execution_count": 92,
     "metadata": {},
     "output_type": "execute_result"
    }
   ],
   "source": [
    "nodes = []\n",
    "for name in names_only:\n",
    "    nodes.append({\n",
    "        'id': name,\n",
    "        'generation' : findAffiliation(generations, name),\n",
    "        'house' : findAffiliation(houses, name)\n",
    "    })\n",
    "nodes"
   ]
  },
  {
   "cell_type": "markdown",
   "metadata": {},
   "source": [
    "### Output as JSON"
   ]
  },
  {
   "cell_type": "code",
   "execution_count": 93,
   "metadata": {
    "collapsed": true
   },
   "outputs": [],
   "source": [
    "out_json = {'nodes': nodes,\n",
    "            'links' : links}"
   ]
  },
  {
   "cell_type": "code",
   "execution_count": 94,
   "metadata": {
    "collapsed": false
   },
   "outputs": [],
   "source": [
    "import json\n",
    "with open('../data/potter.json', 'w') as outfile:\n",
    "    json.dump(out_json, outfile)"
   ]
  }
 ],
 "metadata": {
  "kernelspec": {
   "display_name": "Python 3",
   "language": "python",
   "name": "python3"
  },
  "language_info": {
   "codemirror_mode": {
    "name": "ipython",
    "version": 3
   },
   "file_extension": ".py",
   "mimetype": "text/x-python",
   "name": "python",
   "nbconvert_exporter": "python",
   "pygments_lexer": "ipython3",
   "version": "3.6.2"
  }
 },
 "nbformat": 4,
 "nbformat_minor": 2
}
