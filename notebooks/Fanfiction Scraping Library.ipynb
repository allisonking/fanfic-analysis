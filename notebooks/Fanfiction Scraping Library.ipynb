{
 "cells": [
  {
   "cell_type": "markdown",
   "metadata": {},
   "source": [
    "# Experimenting with an existing scraper"
   ]
  },
  {
   "cell_type": "markdown",
   "metadata": {},
   "source": [
    "This notebook is intended for playing around with web scraping, particularly for [FanFiction.net](https://www.fanfiction.net).\n",
    "\n",
    "This first section will experiment first with the scraping library found at https://github.com/smilli/fanfiction and to see if it will get what I need."
   ]
  },
  {
   "cell_type": "code",
   "execution_count": 77,
   "metadata": {
    "collapsed": true
   },
   "outputs": [],
   "source": [
    "# import the library, initialize the scraper\n",
    "from fanfiction import Scraper\n",
    "scraper = Scraper()"
   ]
  },
  {
   "cell_type": "code",
   "execution_count": 9,
   "metadata": {
    "collapsed": false
   },
   "outputs": [
    {
     "data": {
      "text/plain": [
       "{'author_id': 1625333,\n",
       " 'canon': 'Harry Potter',\n",
       " 'canon_type': 'Books',\n",
       " 'genres': ['Romance'],\n",
       " 'id': 7127370,\n",
       " 'lang': 'English',\n",
       " 'num_chapters': 38,\n",
       " 'num_favs': 58,\n",
       " 'num_follows': 87,\n",
       " 'num_reviews': 85,\n",
       " 'num_words': 130649,\n",
       " 'published': 1309299920,\n",
       " 'rated': 'Fiction  T',\n",
       " 'status': 'Complete',\n",
       " 'title': 'Something Great',\n",
       " 'updated': 1446343703}"
      ]
     },
     "execution_count": 9,
     "metadata": {},
     "output_type": "execute_result"
    }
   ],
   "source": [
    "# this may or may not be my fan fiction from years ago\n",
    "story_id = 7127370\n",
    "metadata = scraper.scrape_story_metadata(story_id)\n",
    "metadata"
   ]
  },
  {
   "cell_type": "markdown",
   "metadata": {},
   "source": [
    "Yup, that's the fan fiction I was thinking of! Let's see when it was published..."
   ]
  },
  {
   "cell_type": "code",
   "execution_count": 10,
   "metadata": {
    "collapsed": false
   },
   "outputs": [
    {
     "data": {
      "text/plain": [
       "1309299920"
      ]
     },
     "execution_count": 10,
     "metadata": {},
     "output_type": "execute_result"
    }
   ],
   "source": [
    "published_timestamp = metadata['published']\n",
    "published_timestamp"
   ]
  },
  {
   "cell_type": "markdown",
   "metadata": {},
   "source": [
    "Let's see when it was published in a format I would understand..."
   ]
  },
  {
   "cell_type": "code",
   "execution_count": 11,
   "metadata": {
    "collapsed": false
   },
   "outputs": [
    {
     "data": {
      "text/plain": [
       "'2011-06-28 18:25:20'"
      ]
     },
     "execution_count": 11,
     "metadata": {},
     "output_type": "execute_result"
    }
   ],
   "source": [
    "import datetime\n",
    "datetime.datetime.fromtimestamp(int(published_timestamp)).strftime('%Y-%m-%d %H:%M:%S')"
   ]
  },
  {
   "cell_type": "markdown",
   "metadata": {},
   "source": [
    "Great! Next step is to figure out how to get a ton of Harry Potter story IDs and parse for the metadata of all of those. While keeping in mind fanfiction.net's terms and services too."
   ]
  },
  {
   "cell_type": "markdown",
   "metadata": {},
   "source": [
    "![screenshot from fanfiction.net](fanficnet_screenshot.png)\n"
   ]
  },
  {
   "cell_type": "markdown",
   "metadata": {},
   "source": [
    "So it seems like all of that metadata is on the list of stories as well. Perhaps I won't need to use this library, but should adapt the library's code to scrape this listing of stories so I'm not pinging fanfiction.net more than necessary, once to get story ids and once to get all metadata. Let's see if we can do that all in one go.\n",
    "\n",
    "Looking at this screenshot, it seems like there might be a problem where 'Published' is listed as '23m ago' which is not a timestamp. Let's see if that's the case."
   ]
  },
  {
   "cell_type": "code",
   "execution_count": 12,
   "metadata": {
    "collapsed": false
   },
   "outputs": [
    {
     "ename": "IndexError",
     "evalue": "list index out of range",
     "output_type": "error",
     "traceback": [
      "\u001b[0;31m---------------------------------------------------------------------------\u001b[0m",
      "\u001b[0;31mIndexError\u001b[0m                                Traceback (most recent call last)",
      "\u001b[0;32m<ipython-input-12-7d754e5de2d8>\u001b[0m in \u001b[0;36m<module>\u001b[0;34m()\u001b[0m\n\u001b[1;32m      1\u001b[0m \u001b[0mstory_id\u001b[0m \u001b[0;34m=\u001b[0m \u001b[0;36m12582445\u001b[0m\u001b[0;34m\u001b[0m\u001b[0m\n\u001b[0;32m----> 2\u001b[0;31m \u001b[0mmetadata\u001b[0m \u001b[0;34m=\u001b[0m \u001b[0mscraper\u001b[0m\u001b[0;34m.\u001b[0m\u001b[0mscrape_story_metadata\u001b[0m\u001b[0;34m(\u001b[0m\u001b[0mstory_id\u001b[0m\u001b[0;34m)\u001b[0m\u001b[0;34m\u001b[0m\u001b[0m\n\u001b[0m",
      "\u001b[0;32m~/anaconda2/envs/fanfic/lib/python3.6/site-packages/fanfiction/scraper.py\u001b[0m in \u001b[0;36mscrape_story_metadata\u001b[0;34m(self, story_id)\u001b[0m\n\u001b[1;32m     67\u001b[0m             \u001b[0;34m'title'\u001b[0m\u001b[0;34m:\u001b[0m \u001b[0mtitle\u001b[0m\u001b[0;34m,\u001b[0m\u001b[0;34m\u001b[0m\u001b[0m\n\u001b[1;32m     68\u001b[0m             \u001b[0;34m'updated'\u001b[0m\u001b[0;34m:\u001b[0m \u001b[0mint\u001b[0m\u001b[0;34m(\u001b[0m\u001b[0mtimes\u001b[0m\u001b[0;34m[\u001b[0m\u001b[0;36m0\u001b[0m\u001b[0;34m]\u001b[0m\u001b[0;34m[\u001b[0m\u001b[0;34m'data-xutime'\u001b[0m\u001b[0;34m]\u001b[0m\u001b[0;34m)\u001b[0m\u001b[0;34m,\u001b[0m\u001b[0;34m\u001b[0m\u001b[0m\n\u001b[0;32m---> 69\u001b[0;31m             \u001b[0;34m'published'\u001b[0m\u001b[0;34m:\u001b[0m \u001b[0mint\u001b[0m\u001b[0;34m(\u001b[0m\u001b[0mtimes\u001b[0m\u001b[0;34m[\u001b[0m\u001b[0;36m1\u001b[0m\u001b[0;34m]\u001b[0m\u001b[0;34m[\u001b[0m\u001b[0;34m'data-xutime'\u001b[0m\u001b[0;34m]\u001b[0m\u001b[0;34m)\u001b[0m\u001b[0;34m,\u001b[0m\u001b[0;34m\u001b[0m\u001b[0m\n\u001b[0m\u001b[1;32m     70\u001b[0m             \u001b[0;34m'lang'\u001b[0m\u001b[0;34m:\u001b[0m \u001b[0mmetadata_parts\u001b[0m\u001b[0;34m[\u001b[0m\u001b[0;36m1\u001b[0m\u001b[0;34m]\u001b[0m\u001b[0;34m.\u001b[0m\u001b[0mstrip\u001b[0m\u001b[0;34m(\u001b[0m\u001b[0;34m)\u001b[0m\u001b[0;34m,\u001b[0m\u001b[0;34m\u001b[0m\u001b[0m\n\u001b[1;32m     71\u001b[0m             \u001b[0;34m'genres'\u001b[0m\u001b[0;34m:\u001b[0m \u001b[0mgenres\u001b[0m\u001b[0;34m\u001b[0m\u001b[0m\n",
      "\u001b[0;31mIndexError\u001b[0m: list index out of range"
     ]
    }
   ],
   "source": [
    "story_id = 12582445\n",
    "metadata = scraper.scrape_story_metadata(story_id)"
   ]
  },
  {
   "cell_type": "markdown",
   "metadata": {},
   "source": [
    "Actually it seems like the problem isn't the '23m ago', but rather that in this case 'updated' should really be 'published' and that there is no 'updated' time. "
   ]
  },
  {
   "cell_type": "markdown",
   "metadata": {
    "collapsed": true
   },
   "source": [
    "# Experimenting with scraping"
   ]
  },
  {
   "cell_type": "markdown",
   "metadata": {},
   "source": [
    "Most of this will be adapted from the code from the above library. I'm thinking that rather than me scraping for all of the story IDs and then using their library to scrape for all of the metadata, can we do it all in one go? To be kind to the FanFiction.net servers :)"
   ]
  },
  {
   "cell_type": "code",
   "execution_count": 5,
   "metadata": {
    "collapsed": true
   },
   "outputs": [],
   "source": [
    "import requests\n",
    "\n",
    "# we're only going to look at harry potter fanfics \n",
    "base_url = \"https://www.fanfiction.net/book/Harry-Potter\"\n",
    "# this gets appended in order to \n",
    "page_suffix = \"?&srt=1&r=103&p=\"\n",
    "\n",
    "# 30 seconds seems reasonable for a human to quickly scroll through a page\n",
    "rate_limit = 30\n",
    "\n",
    "# let's start with page 1. this would eventually go into a for loop index, I imagine\n",
    "page=1"
   ]
  },
  {
   "cell_type": "markdown",
   "metadata": {},
   "source": [
    "Alright- now let's make a request and see what we get in return"
   ]
  },
  {
   "cell_type": "code",
   "execution_count": 10,
   "metadata": {
    "collapsed": false
   },
   "outputs": [],
   "source": [
    "url = '{0}/{1}{2}'.format(base_url, page_suffix, str(page))\n",
    "raw_result = requests.get(url)\n",
    "html = raw_result.content"
   ]
  },
  {
   "cell_type": "code",
   "execution_count": 46,
   "metadata": {
    "collapsed": false
   },
   "outputs": [],
   "source": [
    "from bs4 import BeautifulSoup\n",
    "soup = BeautifulSoup(html, \"html.parser\")"
   ]
  },
  {
   "cell_type": "code",
   "execution_count": 47,
   "metadata": {
    "collapsed": false
   },
   "outputs": [
    {
     "data": {
      "text/plain": [
       "25"
      ]
     },
     "execution_count": 47,
     "metadata": {},
     "output_type": "execute_result"
    }
   ],
   "source": [
    "all_stories_on_page = soup.find_all('div', class_='z-list zhover zpointer ')\n",
    "len(all_stories_on_page)"
   ]
  },
  {
   "cell_type": "code",
   "execution_count": 48,
   "metadata": {
    "collapsed": false
   },
   "outputs": [
    {
     "name": "stdout",
     "output_type": "stream",
     "text": [
      "<div class=\"z-list zhover zpointer \" style=\"min-height:77px;border-bottom:1px #cdcdcd solid;\">\n",
      " <a class=\"stitle\" href=\"/s/12565468/1/Reasons\">\n",
      "  <img class=\"lazy cimage \" data-original=\"//ffcdn2012t-fictionpressllc.netdna-ssl.com/image/4778442/75/\" height=\"66\" src=\"/static/images/d_60_90.jpg\" style=\"clear:left;float:left;margin-right:3px;padding:2px;border:1px solid #ccc;-moz-border-radius:2px;-webkit-border-radius:2px;\" width=\"50\"/>\n",
      "  Reasons\n",
      " </a>\n",
      " <a href=\"/s/12565468/4/Reasons\">\n",
      "  <span class=\"icon-chevron-right xicon-section-arrow\">\n",
      "  </span>\n",
      " </a>\n",
      " by\n",
      " <a href=\"/u/6457851/ILoveHarmony\">\n",
      "  ILoveHarmony\n",
      " </a>\n",
      " <a class=\"reviews\" href=\"/r/12565468/\">\n",
      "  reviews\n",
      " </a>\n",
      " <div class=\"z-indent z-padtop\">\n",
      "  Reasons to love Hermione Jean Granger -by Harry James Potter\n",
      "  <div class=\"z-padtop2 xgray\">\n",
      "   Rated: T - English - Romance/Humor - Chapters: 4 - Words: 3,983 - Reviews: 7 - Favs: 17 - Follows: 18 - Updated:\n",
      "   <span data-xutime=\"1500814509\">\n",
      "    40m\n",
      "   </span>\n",
      "   - Published:\n",
      "   <span data-xutime=\"1499632097\">\n",
      "    7/9\n",
      "   </span>\n",
      "   - [Harry P., Hermione G.]\n",
      "  </div>\n",
      " </div>\n",
      "</div>\n",
      "\n"
     ]
    }
   ],
   "source": [
    "# choosing number two because it has some reviews/follows\n",
    "a_story = all_stories_on_page[2]\n",
    "print(a_story.prettify())"
   ]
  },
  {
   "cell_type": "markdown",
   "metadata": {},
   "source": [
    "Whew, we're getting there! Here's the first story on page 1. Let's see if we can get all the metadata the way the fanfction library does. We'll ignore canon and canon_type since this will by default be all Harry Potter books. So we're going to look for author ID, title, updated, published, language, genres, number of reviews, number of favorites, number of follows, number of words, completion, and the rating."
   ]
  },
  {
   "cell_type": "code",
   "execution_count": 75,
   "metadata": {
    "collapsed": false
   },
   "outputs": [
    {
     "data": {
      "text/plain": [
       "'Reasons'"
      ]
     },
     "execution_count": 75,
     "metadata": {},
     "output_type": "execute_result"
    }
   ],
   "source": [
    "# let's start with the title\n",
    "title = a_story.find(class_='stitle').get_text()\n",
    "title"
   ]
  },
  {
   "cell_type": "markdown",
   "metadata": {},
   "source": [
    "Okay, that was the easy  one. I can do this!!"
   ]
  },
  {
   "cell_type": "code",
   "execution_count": 50,
   "metadata": {
    "collapsed": false
   },
   "outputs": [
    {
     "data": {
      "text/plain": [
       "'/s/12565468/1/Reasons'"
      ]
     },
     "execution_count": 50,
     "metadata": {},
     "output_type": "execute_result"
    }
   ],
   "source": [
    "story_url = a_story.find(class_='stitle')['href']\n",
    "story_url"
   ]
  },
  {
   "cell_type": "markdown",
   "metadata": {},
   "source": [
    "I guess you could also get the title from that, though it seems like it'd be more annoying since I would then have to deal with spaces. So let's stick with this way."
   ]
  },
  {
   "cell_type": "code",
   "execution_count": 51,
   "metadata": {
    "collapsed": false
   },
   "outputs": [
    {
     "data": {
      "text/plain": [
       "['', 's', '12565468', '1', 'Reasons']"
      ]
     },
     "execution_count": 51,
     "metadata": {},
     "output_type": "execute_result"
    }
   ],
   "source": [
    "story_url.split(\"/\")"
   ]
  },
  {
   "cell_type": "code",
   "execution_count": 52,
   "metadata": {
    "collapsed": false
   },
   "outputs": [
    {
     "data": {
      "text/plain": [
       "'12565468'"
      ]
     },
     "execution_count": 52,
     "metadata": {},
     "output_type": "execute_result"
    }
   ],
   "source": [
    "story_id = story_url.split(\"/\")[2]\n",
    "story_id"
   ]
  },
  {
   "cell_type": "code",
   "execution_count": 53,
   "metadata": {
    "collapsed": false
   },
   "outputs": [
    {
     "data": {
      "text/plain": [
       "[<a class=\"stitle\" href=\"/s/12565468/1/Reasons\"><img class=\"lazy cimage \" data-original=\"//ffcdn2012t-fictionpressllc.netdna-ssl.com/image/4778442/75/\" height=\"66\" src=\"/static/images/d_60_90.jpg\" style=\"clear:left;float:left;margin-right:3px;padding:2px;border:1px solid #ccc;-moz-border-radius:2px;-webkit-border-radius:2px;\" width=\"50\"/>Reasons</a>,\n",
       " <a href=\"/s/12565468/4/Reasons\"><span class=\"icon-chevron-right xicon-section-arrow\"></span></a>,\n",
       " <a href=\"/u/6457851/ILoveHarmony\">ILoveHarmony</a>,\n",
       " <a class=\"reviews\" href=\"/r/12565468/\">reviews</a>]"
      ]
     },
     "execution_count": 53,
     "metadata": {},
     "output_type": "execute_result"
    }
   ],
   "source": [
    "a_story.find_all('a')"
   ]
  },
  {
   "cell_type": "code",
   "execution_count": 54,
   "metadata": {
    "collapsed": false
   },
   "outputs": [
    {
     "data": {
      "text/plain": [
       "<a href=\"/u/6457851/ILoveHarmony\">ILoveHarmony</a>"
      ]
     },
     "execution_count": 54,
     "metadata": {},
     "output_type": "execute_result"
    }
   ],
   "source": [
    "# looks like the <a> for author id isn't an ID. hopefully it's always the third one\n",
    "a_story.find_all('a')[2]"
   ]
  },
  {
   "cell_type": "code",
   "execution_count": 55,
   "metadata": {
    "collapsed": false
   },
   "outputs": [
    {
     "data": {
      "text/plain": [
       "'6457851'"
      ]
     },
     "execution_count": 55,
     "metadata": {},
     "output_type": "execute_result"
    }
   ],
   "source": [
    "author_url = a_story.find_all('a')[2]['href']\n",
    "author_id = author_url.split(\"/\")[2]\n",
    "author_id"
   ]
  },
  {
   "cell_type": "code",
   "execution_count": 61,
   "metadata": {
    "collapsed": false
   },
   "outputs": [
    {
     "data": {
      "text/plain": [
       "<div class=\"z-padtop2 xgray\">Rated: T - English - Romance/Humor - Chapters: 4 - Words: 3,983 - Reviews: 7 - Favs: 17 - Follows: 18 - Updated: <span data-xutime=\"1500814509\">40m</span> - Published: <span data-xutime=\"1499632097\">7/9</span> - [Harry P., Hermione G.]</div>"
      ]
     },
     "execution_count": 61,
     "metadata": {},
     "output_type": "execute_result"
    }
   ],
   "source": [
    "metadata_div = a_story.find('div', class_=\"z-padtop2 xgray\")\n",
    "metadata_div"
   ]
  },
  {
   "cell_type": "code",
   "execution_count": 62,
   "metadata": {
    "collapsed": false
   },
   "outputs": [
    {
     "data": {
      "text/plain": [
       "[<span data-xutime=\"1500814509\">40m</span>,\n",
       " <span data-xutime=\"1499632097\">7/9</span>]"
      ]
     },
     "execution_count": 62,
     "metadata": {},
     "output_type": "execute_result"
    }
   ],
   "source": [
    "times = metadata_div.find_all(attrs={'data-xutime':True})\n",
    "times"
   ]
  },
  {
   "cell_type": "code",
   "execution_count": 69,
   "metadata": {
    "collapsed": true
   },
   "outputs": [],
   "source": [
    "import datetime\n",
    "def convertTime(time):\n",
    "    return datetime.datetime.fromtimestamp(int(time)).strftime('%Y-%m-%d %H:%M:%S')"
   ]
  },
  {
   "cell_type": "code",
   "execution_count": 73,
   "metadata": {
    "collapsed": false
   },
   "outputs": [
    {
     "name": "stdout",
     "output_type": "stream",
     "text": [
      "2017-07-23 08:55:09\n",
      "2017-07-09 16:28:17\n"
     ]
    }
   ],
   "source": [
    "if len(times) == 2:\n",
    "    updated = times[0]['data-xutime']\n",
    "    published = times[1]['data-xutime'] \n",
    "else:\n",
    "    updated = times[0]['data-xutime']\n",
    "    published = updated\n",
    "\n",
    "print(convertTime(updated))\n",
    "print(convertTime(published))"
   ]
  },
  {
   "cell_type": "code",
   "execution_count": 74,
   "metadata": {
    "collapsed": false
   },
   "outputs": [
    {
     "data": {
      "text/plain": [
       "'Rated: T - English - Romance/Humor - Chapters: 4 - Words: 3,983 - Reviews: 7 - Favs: 17 - Follows: 18 - Updated: 40m - Published: 7/9 - [Harry P., Hermione G.]'"
      ]
     },
     "execution_count": 74,
     "metadata": {},
     "output_type": "execute_result"
    }
   ],
   "source": [
    "metadata_div.get_text()"
   ]
  },
  {
   "cell_type": "code",
   "execution_count": 76,
   "metadata": {
    "collapsed": false
   },
   "outputs": [
    {
     "data": {
      "text/plain": [
       "['Rated: T ',\n",
       " ' English ',\n",
       " ' Romance/Humor ',\n",
       " ' Chapters: 4 ',\n",
       " ' Words: 3,983 ',\n",
       " ' Reviews: 7 ',\n",
       " ' Favs: 17 ',\n",
       " ' Follows: 18 ',\n",
       " ' Updated: 40m ',\n",
       " ' Published: 7/9 ',\n",
       " ' [Harry P., Hermione G.]']"
      ]
     },
     "execution_count": 76,
     "metadata": {},
     "output_type": "execute_result"
    }
   ],
   "source": [
    "# looks like things are separated by -'s\n",
    "metadata_parts = metadata_div.get_text().split('-')\n",
    "metadata_parts"
   ]
  },
  {
   "cell_type": "code",
   "execution_count": 81,
   "metadata": {
    "collapsed": false
   },
   "outputs": [
    {
     "data": {
      "text/plain": [
       "['Romance', 'Humor']"
      ]
     },
     "execution_count": 81,
     "metadata": {},
     "output_type": "execute_result"
    }
   ],
   "source": [
    "# we'll use that library's nice get_genres function\n",
    "genres = scraper.get_genres(metadata_parts[2].strip())\n",
    "genres"
   ]
  },
  {
   "cell_type": "code",
   "execution_count": 83,
   "metadata": {
    "collapsed": false
   },
   "outputs": [
    {
     "data": {
      "text/plain": [
       "'English'"
      ]
     },
     "execution_count": 83,
     "metadata": {},
     "output_type": "execute_result"
    }
   ],
   "source": [
    "language = metadata_parts[1].strip()\n",
    "language"
   ]
  },
  {
   "cell_type": "code",
   "execution_count": 85,
   "metadata": {
    "collapsed": false
   },
   "outputs": [
    {
     "data": {
      "text/plain": [
       "{'author_id': '6457851',\n",
       " 'genres': ['Romance', 'Humor'],\n",
       " 'id': '12565468',\n",
       " 'language': 'English',\n",
       " 'published': 1499632097,\n",
       " 'title': 'Reasons',\n",
       " 'updated': 1500814509}"
      ]
     },
     "execution_count": 85,
     "metadata": {},
     "output_type": "execute_result"
    }
   ],
   "source": [
    "# put together what we have so far\n",
    "metadata = {\n",
    "    'id': story_id,\n",
    "    'author_id': author_id,\n",
    "    'title': title,\n",
    "    'updated': int(updated),\n",
    "    'published': int(published),\n",
    "    'language': language,\n",
    "    'genres': genres\n",
    "}\n",
    "metadata"
   ]
  },
  {
   "cell_type": "code",
   "execution_count": 86,
   "metadata": {
    "collapsed": false
   },
   "outputs": [
    {
     "data": {
      "text/plain": [
       "{'author_id': '6457851',\n",
       " 'genres': ['Romance', 'Humor'],\n",
       " 'id': '12565468',\n",
       " 'language': 'English',\n",
       " 'num_chapters': 4,\n",
       " 'num_favs': 17,\n",
       " 'num_follows': 18,\n",
       " 'num_reviews': 7,\n",
       " 'num_words': 3983,\n",
       " 'published': 1499632097,\n",
       " 'rated': 'T',\n",
       " 'title': 'Reasons',\n",
       " 'updated': 1500814509}"
      ]
     },
     "execution_count": 86,
     "metadata": {},
     "output_type": "execute_result"
    }
   ],
   "source": [
    "# much thanks to the original library for this logic\n",
    "for parts in metadata_parts:\n",
    "    parts = parts.strip()\n",
    "    # already dealt with language and genres- everything else should have name: value\n",
    "    tag_and_val = parts.split(':')\n",
    "    if len(tag_and_val) != 2:\n",
    "        continue\n",
    "    tag, val = tag_and_val\n",
    "    tag = tag.strip().lower()\n",
    "    if tag not in metadata:\n",
    "        val = val.strip()\n",
    "        try:\n",
    "            val = int(val.replace(',', ''))\n",
    "            metadata['num_'+tag] = val\n",
    "        except:\n",
    "            metadata[tag] = val\n",
    "\n",
    "metadata"
   ]
  },
  {
   "cell_type": "markdown",
   "metadata": {},
   "source": [
    "Alright! We will have to deal with 'status' in a different way than the library cause it doesn't show up on the home page in the same way as it does on any given page. I'd also like to get the character associations which the original library doesn't do. \n",
    "\n",
    "It seems like the last metadata portion is either Published, Complete, or the Character listing. So we'll just have to use if's."
   ]
  },
  {
   "cell_type": "code",
   "execution_count": 89,
   "metadata": {
    "collapsed": false
   },
   "outputs": [
    {
     "data": {
      "text/plain": [
       "' [Harry P., Hermione G.]'"
      ]
     },
     "execution_count": 89,
     "metadata": {},
     "output_type": "execute_result"
    }
   ],
   "source": [
    "last_part = metadata_parts[len(metadata_parts)-1]\n",
    "last_part"
   ]
  },
  {
   "cell_type": "code",
   "execution_count": 106,
   "metadata": {
    "collapsed": false
   },
   "outputs": [
    {
     "data": {
      "text/plain": [
       "['Harry P.', 'Hermione G.']"
      ]
     },
     "execution_count": 106,
     "metadata": {},
     "output_type": "execute_result"
    }
   ],
   "source": [
    "# seems like sometimes there are brackets and sometimes there aren't...\n",
    "def get_characters(character_text):\n",
    "    stripped = character_text.strip()\n",
    "    bracketless = stripped.replace('[', \"\").replace(']', \"\")\n",
    "    return bracketless.split(', ')\n",
    "    \n",
    "get_characters(last_part)"
   ]
  },
  {
   "cell_type": "code",
   "execution_count": 107,
   "metadata": {
    "collapsed": false
   },
   "outputs": [
    {
     "data": {
      "text/plain": [
       "{'author_id': '6457851',\n",
       " 'characters': ['Harry P.', 'Hermione G.'],\n",
       " 'genres': ['Romance', 'Humor'],\n",
       " 'id': '12565468',\n",
       " 'language': 'English',\n",
       " 'num_chapters': 4,\n",
       " 'num_favs': 17,\n",
       " 'num_follows': 18,\n",
       " 'num_reviews': 7,\n",
       " 'num_words': 3983,\n",
       " 'published': 1499632097,\n",
       " 'rated': 'T',\n",
       " 'status': 'Incomplete',\n",
       " 'title': 'Reasons',\n",
       " 'updated': 1500814509}"
      ]
     },
     "execution_count": 107,
     "metadata": {},
     "output_type": "execute_result"
    }
   ],
   "source": [
    "if last_part == 'Complete':\n",
    "    metadata['status'] = 'Complete'\n",
    "else:\n",
    "    metadata['status'] = 'Incomplete'\n",
    "    if last_part.startswith('Published'):\n",
    "        metadata['characters'] = []\n",
    "    else:\n",
    "        metadata['characters'] = get_characters(last_part)\n",
    "metadata"
   ]
  },
  {
   "cell_type": "markdown",
   "metadata": {},
   "source": [
    "I think that's everything! Now let's put it into one function and see how it does...\n",
    "\n",
    "## One function"
   ]
  },
  {
   "cell_type": "code",
   "execution_count": null,
   "metadata": {
    "collapsed": true
   },
   "outputs": [],
   "source": [
    "def scrape_story_blurb(url):\n",
    "    "
   ]
  }
 ],
 "metadata": {
  "kernelspec": {
   "display_name": "Python 3",
   "language": "python",
   "name": "python3"
  },
  "language_info": {
   "codemirror_mode": {
    "name": "ipython",
    "version": 3
   },
   "file_extension": ".py",
   "mimetype": "text/x-python",
   "name": "python",
   "nbconvert_exporter": "python",
   "pygments_lexer": "ipython3",
   "version": "3.6.2"
  }
 },
 "nbformat": 4,
 "nbformat_minor": 2
}
