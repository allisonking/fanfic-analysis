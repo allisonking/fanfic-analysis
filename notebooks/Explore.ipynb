{
 "cells": [
  {
   "cell_type": "markdown",
   "metadata": {},
   "source": [
    "Now that we've scraped the metadata of all of the Harry Potter fan fictions, it's time to explore!\n",
    "\n",
    "# Import Data as DataFrame\n",
    "We'll import as JSON and convert to a Pandas dataframe for easier manipulation/visualization."
   ]
  },
  {
   "cell_type": "code",
   "execution_count": 1,
   "metadata": {
    "collapsed": false
   },
   "outputs": [
    {
     "data": {
      "text/html": [
       "<div>\n",
       "<style>\n",
       "    .dataframe thead tr:only-child th {\n",
       "        text-align: right;\n",
       "    }\n",
       "\n",
       "    .dataframe thead th {\n",
       "        text-align: left;\n",
       "    }\n",
       "\n",
       "    .dataframe tbody tr th {\n",
       "        vertical-align: top;\n",
       "    }\n",
       "</style>\n",
       "<table border=\"1\" class=\"dataframe\">\n",
       "  <thead>\n",
       "    <tr style=\"text-align: right;\">\n",
       "      <th></th>\n",
       "      <th>author_id</th>\n",
       "      <th>characters</th>\n",
       "      <th>genres</th>\n",
       "      <th>language</th>\n",
       "      <th>num_chapters</th>\n",
       "      <th>num_favs</th>\n",
       "      <th>num_follows</th>\n",
       "      <th>num_reviews</th>\n",
       "      <th>num_words</th>\n",
       "      <th>published</th>\n",
       "      <th>rated</th>\n",
       "      <th>status</th>\n",
       "      <th>title</th>\n",
       "      <th>updated</th>\n",
       "    </tr>\n",
       "  </thead>\n",
       "  <tbody>\n",
       "    <tr>\n",
       "      <th>10000036</th>\n",
       "      <td>2846408</td>\n",
       "      <td>[[Ron W., Hermione G.]]</td>\n",
       "      <td>[Romance, Humor]</td>\n",
       "      <td>English</td>\n",
       "      <td>1</td>\n",
       "      <td>5</td>\n",
       "      <td>2</td>\n",
       "      <td>3</td>\n",
       "      <td>5436</td>\n",
       "      <td>1389050085</td>\n",
       "      <td>T</td>\n",
       "      <td>Complete</td>\n",
       "      <td>Kilts and other adversities</td>\n",
       "      <td>1389050085</td>\n",
       "    </tr>\n",
       "    <tr>\n",
       "      <th>10000109</th>\n",
       "      <td>5232542</td>\n",
       "      <td>[James P., Lily Evans P.]</td>\n",
       "      <td>[Humor, Romance]</td>\n",
       "      <td>English</td>\n",
       "      <td>1</td>\n",
       "      <td>4</td>\n",
       "      <td>NaN</td>\n",
       "      <td>2</td>\n",
       "      <td>747</td>\n",
       "      <td>1389051817</td>\n",
       "      <td>K+</td>\n",
       "      <td>Complete</td>\n",
       "      <td>Of Dead Puppies and Dropped Pianos</td>\n",
       "      <td>1389051817</td>\n",
       "    </tr>\n",
       "    <tr>\n",
       "      <th>10000111</th>\n",
       "      <td>5438139</td>\n",
       "      <td>[]</td>\n",
       "      <td>[]</td>\n",
       "      <td>Spanish</td>\n",
       "      <td>1</td>\n",
       "      <td>7</td>\n",
       "      <td>6</td>\n",
       "      <td>5</td>\n",
       "      <td>400</td>\n",
       "      <td>1389051884</td>\n",
       "      <td>K+</td>\n",
       "      <td>Incomplete</td>\n",
       "      <td>Querido primo Harry</td>\n",
       "      <td>1389051884</td>\n",
       "    </tr>\n",
       "    <tr>\n",
       "      <th>10000114</th>\n",
       "      <td>5437478</td>\n",
       "      <td>[Hermione G., Draco M.]</td>\n",
       "      <td>[Romance, Humor]</td>\n",
       "      <td>Spanish</td>\n",
       "      <td>1</td>\n",
       "      <td>11</td>\n",
       "      <td>13</td>\n",
       "      <td>8</td>\n",
       "      <td>1757</td>\n",
       "      <td>1389051911</td>\n",
       "      <td>K+</td>\n",
       "      <td>Incomplete</td>\n",
       "      <td>Conciertos en Hogwarts</td>\n",
       "      <td>1389051911</td>\n",
       "    </tr>\n",
       "    <tr>\n",
       "      <th>10000137</th>\n",
       "      <td>4626918</td>\n",
       "      <td>[Bellatrix L., Luna L.]</td>\n",
       "      <td>[Humor, Horror]</td>\n",
       "      <td>English</td>\n",
       "      <td>3</td>\n",
       "      <td>NaN</td>\n",
       "      <td>NaN</td>\n",
       "      <td>3</td>\n",
       "      <td>659</td>\n",
       "      <td>1389052244</td>\n",
       "      <td>T</td>\n",
       "      <td>Complete</td>\n",
       "      <td>Crazy songs from crazy people</td>\n",
       "      <td>1389414254</td>\n",
       "    </tr>\n",
       "  </tbody>\n",
       "</table>\n",
       "</div>"
      ],
      "text/plain": [
       "         author_id                 characters            genres language  \\\n",
       "10000036   2846408    [[Ron W., Hermione G.]]  [Romance, Humor]  English   \n",
       "10000109   5232542  [James P., Lily Evans P.]  [Humor, Romance]  English   \n",
       "10000111   5438139                         []                []  Spanish   \n",
       "10000114   5437478    [Hermione G., Draco M.]  [Romance, Humor]  Spanish   \n",
       "10000137   4626918    [Bellatrix L., Luna L.]   [Humor, Horror]  English   \n",
       "\n",
       "         num_chapters num_favs num_follows num_reviews num_words   published  \\\n",
       "10000036            1        5           2           3      5436  1389050085   \n",
       "10000109            1        4         NaN           2       747  1389051817   \n",
       "10000111            1        7           6           5       400  1389051884   \n",
       "10000114            1       11          13           8      1757  1389051911   \n",
       "10000137            3      NaN         NaN           3       659  1389052244   \n",
       "\n",
       "         rated      status                               title     updated  \n",
       "10000036     T    Complete         Kilts and other adversities  1389050085  \n",
       "10000109    K+    Complete  Of Dead Puppies and Dropped Pianos  1389051817  \n",
       "10000111    K+  Incomplete                 Querido primo Harry  1389051884  \n",
       "10000114    K+  Incomplete              Conciertos en Hogwarts  1389051911  \n",
       "10000137     T    Complete       Crazy songs from crazy people  1389414254  "
      ]
     },
     "execution_count": 1,
     "metadata": {},
     "output_type": "execute_result"
    }
   ],
   "source": [
    "import pandas as pd\n",
    "\n",
    "data_directory = '../data/'\n",
    "\n",
    "# here is the corrected data\n",
    "filename = \"corrected_data.json\"\n",
    "\n",
    "# take the transpose so that the column names are the metadata keys, not the story ids\n",
    "df = pd.read_json(data_directory + filename).transpose()\n",
    "\n",
    "# let's see what it looks like!\n",
    "df.head()"
   ]
  },
  {
   "cell_type": "code",
   "execution_count": 60,
   "metadata": {
    "collapsed": false
   },
   "outputs": [],
   "source": [
    "# for the purposes of development, let's only look at the first 1000 entries. run this cell for faster development\n",
    "dev = df.head(n=1000).copy()"
   ]
  },
  {
   "cell_type": "code",
   "execution_count": 57,
   "metadata": {
    "collapsed": true
   },
   "outputs": [],
   "source": [
    "dev.to_csv(data_directory+\"data.csv\")"
   ]
  },
  {
   "cell_type": "code",
   "execution_count": 85,
   "metadata": {
    "collapsed": true
   },
   "outputs": [],
   "source": [
    "# run this cell for the real data\n",
    "dev = df.copy()"
   ]
  },
  {
   "cell_type": "code",
   "execution_count": 90,
   "metadata": {
    "collapsed": false
   },
   "outputs": [],
   "source": [
    "sorted_dev = dev.sort_values(['published'], ascending = True)"
   ]
  },
  {
   "cell_type": "code",
   "execution_count": 91,
   "metadata": {
    "collapsed": false
   },
   "outputs": [
    {
     "data": {
      "text/plain": [
       "507475"
      ]
     },
     "execution_count": 91,
     "metadata": {},
     "output_type": "execute_result"
    }
   ],
   "source": [
    "characters_only = sorted_dev[sorted_dev['characters'].apply(lambda x: len(x)>0)]\n",
    "len(characters_only)"
   ]
  },
  {
   "cell_type": "code",
   "execution_count": 93,
   "metadata": {
    "collapsed": false
   },
   "outputs": [],
   "source": [
    "characters_only.to_csv(data_directory+\"characters_only.csv\")\n"
   ]
  },
  {
   "cell_type": "code",
   "execution_count": 108,
   "metadata": {
    "collapsed": false
   },
   "outputs": [],
   "source": [
    "def getCharacterDf(character):\n",
    "    character = characters_only[characters_only['characters'].apply(lambda x: character in x)]\n",
    "    return character"
   ]
  },
  {
   "cell_type": "code",
   "execution_count": 112,
   "metadata": {
    "collapsed": false
   },
   "outputs": [
    {
     "data": {
      "text/html": [
       "<div>\n",
       "<style>\n",
       "    .dataframe thead tr:only-child th {\n",
       "        text-align: right;\n",
       "    }\n",
       "\n",
       "    .dataframe thead th {\n",
       "        text-align: left;\n",
       "    }\n",
       "\n",
       "    .dataframe tbody tr th {\n",
       "        vertical-align: top;\n",
       "    }\n",
       "</style>\n",
       "<table border=\"1\" class=\"dataframe\">\n",
       "  <thead>\n",
       "    <tr style=\"text-align: right;\">\n",
       "      <th></th>\n",
       "      <th>author_id</th>\n",
       "      <th>characters</th>\n",
       "      <th>genres</th>\n",
       "      <th>language</th>\n",
       "      <th>num_chapters</th>\n",
       "      <th>num_favs</th>\n",
       "      <th>num_follows</th>\n",
       "      <th>num_reviews</th>\n",
       "      <th>num_words</th>\n",
       "      <th>published</th>\n",
       "      <th>rated</th>\n",
       "      <th>status</th>\n",
       "      <th>title</th>\n",
       "      <th>updated</th>\n",
       "    </tr>\n",
       "  </thead>\n",
       "  <tbody>\n",
       "    <tr>\n",
       "      <th>684</th>\n",
       "      <td>4069</td>\n",
       "      <td>[Lily Evans P., James P.]</td>\n",
       "      <td>[Romance, Angst]</td>\n",
       "      <td>English</td>\n",
       "      <td>1</td>\n",
       "      <td>83</td>\n",
       "      <td>12</td>\n",
       "      <td>363</td>\n",
       "      <td>10649</td>\n",
       "      <td>940489200</td>\n",
       "      <td>K+</td>\n",
       "      <td>Incomplete</td>\n",
       "      <td>Lily</td>\n",
       "      <td>940489200</td>\n",
       "    </tr>\n",
       "    <tr>\n",
       "      <th>3476</th>\n",
       "      <td>4069</td>\n",
       "      <td>[Harry P., Lily Evans P.]</td>\n",
       "      <td>[Angst, Supernatural]</td>\n",
       "      <td>English</td>\n",
       "      <td>1</td>\n",
       "      <td>21</td>\n",
       "      <td>5</td>\n",
       "      <td>77</td>\n",
       "      <td>949</td>\n",
       "      <td>942739200</td>\n",
       "      <td>K</td>\n",
       "      <td>Incomplete</td>\n",
       "      <td>Niaga, Erised</td>\n",
       "      <td>942739200</td>\n",
       "    </tr>\n",
       "    <tr>\n",
       "      <th>7795</th>\n",
       "      <td>6169</td>\n",
       "      <td>[Harry P., Hermione G.]</td>\n",
       "      <td>[Fantasy, Adventure]</td>\n",
       "      <td>English</td>\n",
       "      <td>1</td>\n",
       "      <td>27</td>\n",
       "      <td>6</td>\n",
       "      <td>88</td>\n",
       "      <td>2140</td>\n",
       "      <td>945590400</td>\n",
       "      <td>K+</td>\n",
       "      <td>Complete</td>\n",
       "      <td>Harry Potter and the Last Battle</td>\n",
       "      <td>945590400</td>\n",
       "    </tr>\n",
       "    <tr>\n",
       "      <th>5111</th>\n",
       "      <td>6132</td>\n",
       "      <td>[Ginny W., Ron W.]</td>\n",
       "      <td>[Romance, Mystery]</td>\n",
       "      <td>English</td>\n",
       "      <td>6</td>\n",
       "      <td>2</td>\n",
       "      <td>NaN</td>\n",
       "      <td>63</td>\n",
       "      <td>7819</td>\n",
       "      <td>946886400</td>\n",
       "      <td>K+</td>\n",
       "      <td>Incomplete</td>\n",
       "      <td>A 7th Year Christmas</td>\n",
       "      <td>995785200</td>\n",
       "    </tr>\n",
       "    <tr>\n",
       "      <th>8916</th>\n",
       "      <td>6432</td>\n",
       "      <td>[Remus L., Sirius B.]</td>\n",
       "      <td>[]</td>\n",
       "      <td>English</td>\n",
       "      <td>2</td>\n",
       "      <td>21</td>\n",
       "      <td>4</td>\n",
       "      <td>169</td>\n",
       "      <td>7936</td>\n",
       "      <td>947577600</td>\n",
       "      <td>K</td>\n",
       "      <td>Incomplete</td>\n",
       "      <td>Moony and Padfoot</td>\n",
       "      <td>983865600</td>\n",
       "    </tr>\n",
       "  </tbody>\n",
       "</table>\n",
       "</div>"
      ],
      "text/plain": [
       "     author_id                 characters                 genres language  \\\n",
       "684       4069  [Lily Evans P., James P.]       [Romance, Angst]  English   \n",
       "3476      4069  [Harry P., Lily Evans P.]  [Angst, Supernatural]  English   \n",
       "7795      6169    [Harry P., Hermione G.]   [Fantasy, Adventure]  English   \n",
       "5111      6132         [Ginny W., Ron W.]     [Romance, Mystery]  English   \n",
       "8916      6432      [Remus L., Sirius B.]                     []  English   \n",
       "\n",
       "     num_chapters num_favs num_follows num_reviews num_words  published rated  \\\n",
       "684             1       83          12         363     10649  940489200    K+   \n",
       "3476            1       21           5          77       949  942739200     K   \n",
       "7795            1       27           6          88      2140  945590400    K+   \n",
       "5111            6        2         NaN          63      7819  946886400    K+   \n",
       "8916            2       21           4         169      7936  947577600     K   \n",
       "\n",
       "          status                             title    updated  \n",
       "684   Incomplete                              Lily  940489200  \n",
       "3476  Incomplete                     Niaga, Erised  942739200  \n",
       "7795    Complete  Harry Potter and the Last Battle  945590400  \n",
       "5111  Incomplete              A 7th Year Christmas  995785200  \n",
       "8916  Incomplete                 Moony and Padfoot  983865600  "
      ]
     },
     "execution_count": 112,
     "metadata": {},
     "output_type": "execute_result"
    }
   ],
   "source": [
    "characters_only.head()"
   ]
  },
  {
   "cell_type": "code",
   "execution_count": 89,
   "metadata": {
    "collapsed": false
   },
   "outputs": [],
   "source": [
    "dev.loc[dev.published == 0, 'published'] = 1177495284"
   ]
  },
  {
   "cell_type": "code",
   "execution_count": 53,
   "metadata": {
    "collapsed": false
   },
   "outputs": [
    {
     "data": {
      "text/html": [
       "<div>\n",
       "<style>\n",
       "    .dataframe thead tr:only-child th {\n",
       "        text-align: right;\n",
       "    }\n",
       "\n",
       "    .dataframe thead th {\n",
       "        text-align: left;\n",
       "    }\n",
       "\n",
       "    .dataframe tbody tr th {\n",
       "        vertical-align: top;\n",
       "    }\n",
       "</style>\n",
       "<table border=\"1\" class=\"dataframe\">\n",
       "  <thead>\n",
       "    <tr style=\"text-align: right;\">\n",
       "      <th></th>\n",
       "      <th>author_id</th>\n",
       "      <th>characters</th>\n",
       "      <th>genres</th>\n",
       "      <th>language</th>\n",
       "      <th>num_chapters</th>\n",
       "      <th>num_favs</th>\n",
       "      <th>num_follows</th>\n",
       "      <th>num_reviews</th>\n",
       "      <th>num_words</th>\n",
       "      <th>published</th>\n",
       "      <th>rated</th>\n",
       "      <th>status</th>\n",
       "      <th>title</th>\n",
       "      <th>updated</th>\n",
       "    </tr>\n",
       "  </thead>\n",
       "  <tbody>\n",
       "    <tr>\n",
       "      <th>1657629</th>\n",
       "      <td>509449</td>\n",
       "      <td>[Harry P.]</td>\n",
       "      <td>[Adventure]</td>\n",
       "      <td>English</td>\n",
       "      <td>29</td>\n",
       "      <td>4491</td>\n",
       "      <td>3397</td>\n",
       "      <td>4699</td>\n",
       "      <td>470346</td>\n",
       "      <td>1177495284</td>\n",
       "      <td>T</td>\n",
       "      <td>Incomplete</td>\n",
       "      <td>Harry Potter and the Power of Time</td>\n",
       "      <td>1177495284</td>\n",
       "    </tr>\n",
       "    <tr>\n",
       "      <th>1841515</th>\n",
       "      <td>509449</td>\n",
       "      <td>[Neville L., Harry P.]</td>\n",
       "      <td>[]</td>\n",
       "      <td>English</td>\n",
       "      <td>4</td>\n",
       "      <td>6</td>\n",
       "      <td>5</td>\n",
       "      <td>44</td>\n",
       "      <td>1251</td>\n",
       "      <td>1083311314</td>\n",
       "      <td>K</td>\n",
       "      <td>Complete</td>\n",
       "      <td>Drabbles:  Random, Nonsense Writings</td>\n",
       "      <td>1089877848</td>\n",
       "    </tr>\n",
       "  </tbody>\n",
       "</table>\n",
       "</div>"
      ],
      "text/plain": [
       "        author_id              characters       genres language num_chapters  \\\n",
       "1657629    509449              [Harry P.]  [Adventure]  English           29   \n",
       "1841515    509449  [Neville L., Harry P.]           []  English            4   \n",
       "\n",
       "        num_favs num_follows num_reviews num_words   published rated  \\\n",
       "1657629     4491        3397        4699    470346  1177495284     T   \n",
       "1841515        6           5          44      1251  1083311314     K   \n",
       "\n",
       "             status                                 title     updated  \n",
       "1657629  Incomplete    Harry Potter and the Power of Time  1177495284  \n",
       "1841515    Complete  Drabbles:  Random, Nonsense Writings  1089877848  "
      ]
     },
     "execution_count": 53,
     "metadata": {},
     "output_type": "execute_result"
    }
   ],
   "source": [
    "dev.loc[dev.author_id == '509449']"
   ]
  },
  {
   "cell_type": "code",
   "execution_count": 113,
   "metadata": {
    "collapsed": false
   },
   "outputs": [
    {
     "name": "stderr",
     "output_type": "stream",
     "text": [
      "/Users/allisonking/anaconda2/envs/fanfic/lib/python3.6/site-packages/ipykernel_launcher.py:2: SettingWithCopyWarning: \n",
      "A value is trying to be set on a copy of a slice from a DataFrame.\n",
      "Try using .loc[row_indexer,col_indexer] = value instead\n",
      "\n",
      "See the caveats in the documentation: http://pandas.pydata.org/pandas-docs/stable/indexing.html#indexing-view-versus-copy\n",
      "  \n"
     ]
    },
    {
     "name": "stdout",
     "output_type": "stream",
     "text": [
      "5755 dates with fan fiction written about Ron W.\n",
      "5743 dates with fan fiction written about Ginny W.\n",
      "5930 dates with fan fiction written about Hermione G.\n",
      "5781 dates with fan fiction written about Sirius B.\n",
      "5690 dates with fan fiction written about Remus L.\n",
      "5882 dates with fan fiction written about Draco M.\n",
      "5784 dates with fan fiction written about Severus S.\n",
      "4518 dates with fan fiction written about Albus D.\n",
      "3480 dates with fan fiction written about Fred W.\n",
      "4768 dates with fan fiction written about Voldemort\n",
      "5789 dates with fan fiction written about Lily Evans P.\n",
      "2797 dates with fan fiction written about Albus S. P.\n"
     ]
    }
   ],
   "source": [
    "all_characters = ['Ron W.', 'Ginny W.', 'Hermione G.', 'Sirius B.', 'Remus L.', \n",
    "                  'Draco M.', 'Severus S.', 'Albus D.', 'Fred W.', 'Voldemort', 'Lily Evans P.', \n",
    "                 'Albus S. P.']\n",
    "for character in all_characters:\n",
    "    character_df = getCharacterDf(character)\n",
    "    addPublishedDate(character_df)\n",
    "    grouped = character_df.groupby('published_date').published_date.count()\n",
    "    print('{0} dates with fan fiction written about {1}'.format(len(grouped), character))\n",
    "    grouped.to_csv(data_directory+character+'csv')\n",
    "    \n"
   ]
  },
  {
   "cell_type": "code",
   "execution_count": 110,
   "metadata": {
    "collapsed": true
   },
   "outputs": [],
   "source": [
    "character.to_csv(data_directory + \"neville.csv\")"
   ]
  },
  {
   "cell_type": "code",
   "execution_count": 106,
   "metadata": {
    "collapsed": false
   },
   "outputs": [
    {
     "data": {
      "text/plain": [
       "published_date\n",
       "1999-11-16    1\n",
       "1999-12-19    1\n",
       "2000-02-02    1\n",
       "2000-02-22    1\n",
       "2000-02-26    1\n",
       "Name: published_date, dtype: int64"
      ]
     },
     "execution_count": 106,
     "metadata": {},
     "output_type": "execute_result"
    }
   ],
   "source": [
    "grouped.columns = ['published_date', 'count']\n",
    "grouped.head()"
   ]
  },
  {
   "cell_type": "markdown",
   "metadata": {},
   "source": [
    "Here's some useful time conversion functions"
   ]
  },
  {
   "cell_type": "code",
   "execution_count": 99,
   "metadata": {
    "collapsed": true
   },
   "outputs": [],
   "source": [
    "# should put this in a util class later\n",
    "import datetime\n",
    "def convertToDateString(timestamp):\n",
    "    return datetime.datetime.utcfromtimestamp(int(timestamp)).strftime('%Y-%m-%d')\n",
    "\n",
    "def convertToDateWithTimeString(timestamp):\n",
    "    return datetime.datetime.utcfromtimestamp(int(timestamp)).strftime('%Y-%m-%d %H:%M:%S')\n",
    "\n",
    "def convertToDateTimeObj(timestamp):\n",
    "    return datetime.datetime.utcfromtimestamp(timestamp)\n"
   ]
  },
  {
   "cell_type": "markdown",
   "metadata": {},
   "source": [
    "Now we can get the date in a more readable format. "
   ]
  },
  {
   "cell_type": "code",
   "execution_count": 30,
   "metadata": {
    "collapsed": false
   },
   "outputs": [
    {
     "data": {
      "text/html": [
       "<div>\n",
       "<style>\n",
       "    .dataframe thead tr:only-child th {\n",
       "        text-align: right;\n",
       "    }\n",
       "\n",
       "    .dataframe thead th {\n",
       "        text-align: left;\n",
       "    }\n",
       "\n",
       "    .dataframe tbody tr th {\n",
       "        vertical-align: top;\n",
       "    }\n",
       "</style>\n",
       "<table border=\"1\" class=\"dataframe\">\n",
       "  <thead>\n",
       "    <tr style=\"text-align: right;\">\n",
       "      <th></th>\n",
       "      <th>author_id</th>\n",
       "      <th>characters</th>\n",
       "      <th>genres</th>\n",
       "      <th>language</th>\n",
       "      <th>num_chapters</th>\n",
       "      <th>num_favs</th>\n",
       "      <th>num_follows</th>\n",
       "      <th>num_reviews</th>\n",
       "      <th>num_words</th>\n",
       "      <th>published</th>\n",
       "      <th>rated</th>\n",
       "      <th>status</th>\n",
       "      <th>title</th>\n",
       "      <th>updated</th>\n",
       "      <th>published_date</th>\n",
       "    </tr>\n",
       "  </thead>\n",
       "  <tbody>\n",
       "    <tr>\n",
       "      <th>10000036</th>\n",
       "      <td>2846408</td>\n",
       "      <td>[[Ron W., Hermione G.]]</td>\n",
       "      <td>[Romance, Humor]</td>\n",
       "      <td>English</td>\n",
       "      <td>1</td>\n",
       "      <td>5</td>\n",
       "      <td>2</td>\n",
       "      <td>3</td>\n",
       "      <td>5436</td>\n",
       "      <td>1389050085</td>\n",
       "      <td>T</td>\n",
       "      <td>Complete</td>\n",
       "      <td>Kilts and other adversities</td>\n",
       "      <td>1389050085</td>\n",
       "      <td>2014-01-06</td>\n",
       "    </tr>\n",
       "    <tr>\n",
       "      <th>10000109</th>\n",
       "      <td>5232542</td>\n",
       "      <td>[James P., Lily Evans P.]</td>\n",
       "      <td>[Humor, Romance]</td>\n",
       "      <td>English</td>\n",
       "      <td>1</td>\n",
       "      <td>4</td>\n",
       "      <td>NaN</td>\n",
       "      <td>2</td>\n",
       "      <td>747</td>\n",
       "      <td>1389051817</td>\n",
       "      <td>K+</td>\n",
       "      <td>Complete</td>\n",
       "      <td>Of Dead Puppies and Dropped Pianos</td>\n",
       "      <td>1389051817</td>\n",
       "      <td>2014-01-06</td>\n",
       "    </tr>\n",
       "    <tr>\n",
       "      <th>10000111</th>\n",
       "      <td>5438139</td>\n",
       "      <td>[]</td>\n",
       "      <td>[]</td>\n",
       "      <td>Spanish</td>\n",
       "      <td>1</td>\n",
       "      <td>7</td>\n",
       "      <td>6</td>\n",
       "      <td>5</td>\n",
       "      <td>400</td>\n",
       "      <td>1389051884</td>\n",
       "      <td>K+</td>\n",
       "      <td>Incomplete</td>\n",
       "      <td>Querido primo Harry</td>\n",
       "      <td>1389051884</td>\n",
       "      <td>2014-01-06</td>\n",
       "    </tr>\n",
       "    <tr>\n",
       "      <th>10000114</th>\n",
       "      <td>5437478</td>\n",
       "      <td>[Hermione G., Draco M.]</td>\n",
       "      <td>[Romance, Humor]</td>\n",
       "      <td>Spanish</td>\n",
       "      <td>1</td>\n",
       "      <td>11</td>\n",
       "      <td>13</td>\n",
       "      <td>8</td>\n",
       "      <td>1757</td>\n",
       "      <td>1389051911</td>\n",
       "      <td>K+</td>\n",
       "      <td>Incomplete</td>\n",
       "      <td>Conciertos en Hogwarts</td>\n",
       "      <td>1389051911</td>\n",
       "      <td>2014-01-06</td>\n",
       "    </tr>\n",
       "    <tr>\n",
       "      <th>10000137</th>\n",
       "      <td>4626918</td>\n",
       "      <td>[Bellatrix L., Luna L.]</td>\n",
       "      <td>[Humor, Horror]</td>\n",
       "      <td>English</td>\n",
       "      <td>3</td>\n",
       "      <td>NaN</td>\n",
       "      <td>NaN</td>\n",
       "      <td>3</td>\n",
       "      <td>659</td>\n",
       "      <td>1389052244</td>\n",
       "      <td>T</td>\n",
       "      <td>Complete</td>\n",
       "      <td>Crazy songs from crazy people</td>\n",
       "      <td>1389414254</td>\n",
       "      <td>2014-01-06</td>\n",
       "    </tr>\n",
       "  </tbody>\n",
       "</table>\n",
       "</div>"
      ],
      "text/plain": [
       "         author_id                 characters            genres language  \\\n",
       "10000036   2846408    [[Ron W., Hermione G.]]  [Romance, Humor]  English   \n",
       "10000109   5232542  [James P., Lily Evans P.]  [Humor, Romance]  English   \n",
       "10000111   5438139                         []                []  Spanish   \n",
       "10000114   5437478    [Hermione G., Draco M.]  [Romance, Humor]  Spanish   \n",
       "10000137   4626918    [Bellatrix L., Luna L.]   [Humor, Horror]  English   \n",
       "\n",
       "         num_chapters num_favs num_follows num_reviews num_words   published  \\\n",
       "10000036            1        5           2           3      5436  1389050085   \n",
       "10000109            1        4         NaN           2       747  1389051817   \n",
       "10000111            1        7           6           5       400  1389051884   \n",
       "10000114            1       11          13           8      1757  1389051911   \n",
       "10000137            3      NaN         NaN           3       659  1389052244   \n",
       "\n",
       "         rated      status                               title     updated  \\\n",
       "10000036     T    Complete         Kilts and other adversities  1389050085   \n",
       "10000109    K+    Complete  Of Dead Puppies and Dropped Pianos  1389051817   \n",
       "10000111    K+  Incomplete                 Querido primo Harry  1389051884   \n",
       "10000114    K+  Incomplete              Conciertos en Hogwarts  1389051911   \n",
       "10000137     T    Complete       Crazy songs from crazy people  1389414254   \n",
       "\n",
       "         published_date  \n",
       "10000036     2014-01-06  \n",
       "10000109     2014-01-06  \n",
       "10000111     2014-01-06  \n",
       "10000114     2014-01-06  \n",
       "10000137     2014-01-06  "
      ]
     },
     "execution_count": 30,
     "metadata": {},
     "output_type": "execute_result"
    }
   ],
   "source": [
    "def addPublishedDate(dataframe):\n",
    "    dataframe['published_date'] = dataframe['published'].map(lambda x: convertToDateTimeObj(x).date())\n",
    "    return dataframe\n",
    "\n",
    "addPublishedDate(dev)\n",
    "dev.head()"
   ]
  },
  {
   "cell_type": "code",
   "execution_count": 31,
   "metadata": {
    "collapsed": false
   },
   "outputs": [
    {
     "data": {
      "text/plain": [
       "published_date\n",
       "2000-10-28    10\n",
       "2002-10-05     3\n",
       "2002-10-06    80\n",
       "2002-10-07    23\n",
       "2014-01-06     7\n",
       "Name: published_date, dtype: int64"
      ]
     },
     "execution_count": 31,
     "metadata": {},
     "output_type": "execute_result"
    }
   ],
   "source": [
    "grouped = dev.groupby('published_date').published_date.count()\n",
    "grouped.head()"
   ]
  },
  {
   "cell_type": "markdown",
   "metadata": {},
   "source": [
    "Well that's weird- there shouldn't be any fan fiction from 1970. Seems like probably an error in fanfiction.net's database, so let's get rid of it. 1970 of course is when UTC starts, so that's 0..."
   ]
  },
  {
   "cell_type": "code",
   "execution_count": 22,
   "metadata": {
    "collapsed": false
   },
   "outputs": [],
   "source": [
    "mistake = convertToDateTimeObj(0).date()\n",
    "\n",
    "grouped = grouped.drop(mistake)"
   ]
  },
  {
   "cell_type": "markdown",
   "metadata": {},
   "source": [
    "Let's save this off as a CSV so we can play with in with D3 later"
   ]
  },
  {
   "cell_type": "code",
   "execution_count": 26,
   "metadata": {
    "collapsed": true
   },
   "outputs": [],
   "source": [
    "output_file = \"grouped_dates.csv\"\n",
    "grouped.to_csv(data_directory + output_file)"
   ]
  },
  {
   "cell_type": "code",
   "execution_count": 27,
   "metadata": {
    "collapsed": false
   },
   "outputs": [
    {
     "data": {
      "text/plain": [
       "published_date\n",
       "1999-09-04    1\n",
       "1999-09-27    1\n",
       "1999-10-13    1\n",
       "1999-10-21    1\n",
       "1999-10-30    1\n",
       "Name: published_date, dtype: int64"
      ]
     },
     "execution_count": 27,
     "metadata": {},
     "output_type": "execute_result"
    }
   ],
   "source": [
    "grouped.head()"
   ]
  },
  {
   "cell_type": "markdown",
   "metadata": {},
   "source": [
    "## Some visualization\n",
    "And now for the plotting!"
   ]
  },
  {
   "cell_type": "code",
   "execution_count": 23,
   "metadata": {
    "collapsed": false
   },
   "outputs": [
    {
     "data": {
      "image/png": "[encoded data removed]",
      "text/plain": [
       "<matplotlib.figure.Figure at 0x180cae630>"
      ]
     },
     "metadata": {},
     "output_type": "display_data"
    },
    {
     "data": {
      "text/plain": [
       "<matplotlib.figure.Figure at 0x1805c9a58>"
      ]
     },
     "metadata": {},
     "output_type": "display_data"
    }
   ],
   "source": [
    "%matplotlib inline\n",
    "import matplotlib.pyplot as plt\n",
    "import matplotlib.dates as mdates\n",
    "plt.rcParams['figure.figsize'] = (20,10)\n",
    "\n",
    "# took the x axis tick labeling from https://matplotlib.org/devdocs/gallery/api/date.html\n",
    "years = mdates.YearLocator()   # every year\n",
    "months = mdates.MonthLocator()  # every month\n",
    "yearsFmt = mdates.DateFormatter('%Y')\n",
    "\n",
    "# plot!\n",
    "ax = grouped.plot()\n",
    "\n",
    "# format\n",
    "ax.xaxis.set_major_locator(years)\n",
    "ax.xaxis.set_major_formatter(yearsFmt)\n",
    "ax.xaxis.set_minor_locator(months)\n",
    "#ax.set_xlim(min_year, max_year)\n",
    "\n",
    "fig = plt.figure()\n",
    "fig.autofmt_xdate()"
   ]
  },
  {
   "cell_type": "markdown",
   "metadata": {},
   "source": [
    "Man, I bet I know what that first spike is. 2007, middle of it, hand me down clothes and a redhead? Must be the day Harry Potter and the Deathly Hallows came out. And that second spike? Middle of 2011- that's gotta be when the last movie came out. "
   ]
  },
  {
   "cell_type": "code",
   "execution_count": 24,
   "metadata": {
    "collapsed": false
   },
   "outputs": [
    {
     "data": {
      "text/plain": [
       "<matplotlib.figure.Figure at 0x1805c9a58>"
      ]
     },
     "execution_count": 24,
     "metadata": {},
     "output_type": "execute_result"
    }
   ],
   "source": [
    "%matplotlib inline\n",
    "\n",
    "last_book = datetime.datetime.strptime(\"2007-07-21\",\"%Y-%m-%d\")\n",
    "last_movie = datetime.datetime.strptime(\"2011-07-11\", \"%Y-%m-%d\")\n",
    "\n",
    "ax.axvline(x=last_book, color='r')\n",
    "ax.axvline(x=last_movie, color='r')\n",
    "\n",
    "fig"
   ]
  },
  {
   "cell_type": "markdown",
   "metadata": {},
   "source": [
    "Not sure why that cell doesn't display the figure inline... Or why the settings aren't getting carried over. Should look into that later. For now let's just redraw the plot and add in the labels for when the last book and the last movie came out."
   ]
  },
  {
   "cell_type": "code",
   "execution_count": 106,
   "metadata": {
    "collapsed": false
   },
   "outputs": [],
   "source": [
    "min_year = datetime.datetime.strptime(\"2007-01-01\", '%Y-%m-%d')\n",
    "max_year = datetime.datetime.strptime(\"2007-12-31\", '%Y-%m-%d')"
   ]
  },
  {
   "cell_type": "code",
   "execution_count": 25,
   "metadata": {
    "collapsed": false
   },
   "outputs": [
    {
     "data": {
      "image/png": "[encoded data removed]",
      "text/plain": [
       "<matplotlib.figure.Figure at 0x180fc6a20>"
      ]
     },
     "metadata": {},
     "output_type": "display_data"
    },
    {
     "data": {
      "text/plain": [
       "<matplotlib.figure.Figure at 0x181070d30>"
      ]
     },
     "metadata": {},
     "output_type": "display_data"
    }
   ],
   "source": [
    "plt.rcParams['figure.figsize'] = (20,10)\n",
    "\n",
    "# took the x axis tick labeling from https://matplotlib.org/devdocs/gallery/api/date.html\n",
    "years = mdates.YearLocator()   # every year\n",
    "months = mdates.MonthLocator()  # every month\n",
    "yearsFmt = mdates.DateFormatter('%Y')\n",
    "\n",
    "# plot!\n",
    "ax = grouped.plot()\n",
    "\n",
    "# format\n",
    "ax.xaxis.set_major_locator(years)\n",
    "ax.xaxis.set_major_formatter(yearsFmt)\n",
    "ax.xaxis.set_minor_locator(months)\n",
    "\n",
    "# add some markers\n",
    "ax.axvline(x=last_book, color='r')\n",
    "ax.axvline(x=last_movie, color='r')\n",
    "\n",
    "\n",
    "fig = plt.figure()\n",
    "fig.autofmt_xdate()"
   ]
  },
  {
   "cell_type": "markdown",
   "metadata": {},
   "source": [
    "Spot on! 10 points to me!"
   ]
  }
 ],
 "metadata": {
  "kernelspec": {
   "display_name": "Python 3",
   "language": "python",
   "name": "python3"
  },
  "language_info": {
   "codemirror_mode": {
    "name": "ipython",
    "version": 3
   },
   "file_extension": ".py",
   "mimetype": "text/x-python",
   "name": "python",
   "nbconvert_exporter": "python",
   "pygments_lexer": "ipython3",
   "version": "3.6.2"
  }
 },
 "nbformat": 4,
 "nbformat_minor": 2
}
