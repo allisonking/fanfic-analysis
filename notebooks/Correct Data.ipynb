{
 "cells": [
  {
   "cell_type": "markdown",
   "metadata": {},
   "source": [
    "Alright, time for me to admit that I should have done more tests with the scraper before I unleashed it on 580K stories. Turns out I messed up the character field a bit- some of the data says [\"Published: ...\"] as the characters because I didn't account for the case where there was neither a character listing nor a completion listed. Luckily that can be corrected after the fact so let's do that now... "
   ]
  },
  {
   "cell_type": "code",
   "execution_count": 2,
   "metadata": {
    "collapsed": false
   },
   "outputs": [],
   "source": [
    "import json\n",
    "\n",
    "filename = \"../src/fanfic/scrape/data.json\"\n",
    "file = open(filename).read()\n",
    "data = json.loads(file)"
   ]
  },
  {
   "cell_type": "code",
   "execution_count": 3,
   "metadata": {
    "collapsed": false
   },
   "outputs": [
    {
     "data": {
      "text/plain": [
       "'Number of stories scraped: 586075'"
      ]
     },
     "execution_count": 3,
     "metadata": {},
     "output_type": "execute_result"
    }
   ],
   "source": [
    "\"Number of stories scraped: {0}\".format(len(data))"
   ]
  },
  {
   "cell_type": "code",
   "execution_count": 6,
   "metadata": {
    "collapsed": false
   },
   "outputs": [
    {
     "data": {
      "text/plain": [
       "dict_keys(['author_id', 'title', 'updated', 'published', 'language', 'genres', 'rated', 'num_chapters', 'num_words', 'num_reviews', 'num_favs', 'num_follows', 'status', 'characters'])"
      ]
     },
     "execution_count": 6,
     "metadata": {},
     "output_type": "execute_result"
    }
   ],
   "source": [
    "story_ids = list(data.keys())\n",
    "example_key = story_ids[0]\n",
    "data[example_key].keys()"
   ]
  },
  {
   "cell_type": "code",
   "execution_count": 25,
   "metadata": {
    "collapsed": false
   },
   "outputs": [
    {
     "data": {
      "text/plain": [
       "'Corrected 68144 entries'"
      ]
     },
     "execution_count": 25,
     "metadata": {},
     "output_type": "execute_result"
    }
   ],
   "source": [
    "count = 0\n",
    "for story_id in story_ids:\n",
    "    if len(data[story_id]['characters']) == 1 and type(data[story_id]['characters'][0]) is str:\n",
    "        if data[story_id]['characters'][0].startswith(\"Published\"):\n",
    "            count = count + 1\n",
    "            data[story_id]['characters'] = []\n",
    "\"Corrected {0} entries\".format(count)"
   ]
  },
  {
   "cell_type": "markdown",
   "metadata": {},
   "source": [
    "Yikes, 68,000 entries, huh... Well, compared to 580K that's not THAT many right...? Heh heh heh... Gotta make sure not to do that again."
   ]
  },
  {
   "cell_type": "code",
   "execution_count": 26,
   "metadata": {
    "collapsed": true
   },
   "outputs": [],
   "source": [
    "new_filename = 'corrected_data.json'\n",
    "with open(new_filename, 'w') as outfile:\n",
    "    json.dump(data, outfile)"
   ]
  },
  {
   "cell_type": "code",
   "execution_count": null,
   "metadata": {
    "collapsed": true
   },
   "outputs": [],
   "source": []
  }
 ],
 "metadata": {
  "kernelspec": {
   "display_name": "Python 3",
   "language": "python",
   "name": "python3"
  },
  "language_info": {
   "codemirror_mode": {
    "name": "ipython",
    "version": 3
   },
   "file_extension": ".py",
   "mimetype": "text/x-python",
   "name": "python",
   "nbconvert_exporter": "python",
   "pygments_lexer": "ipython3",
   "version": "3.6.2"
  }
 },
 "nbformat": 4,
 "nbformat_minor": 2
}
