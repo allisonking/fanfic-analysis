{
 "cells": [
  {
   "cell_type": "code",
   "execution_count": 1,
   "metadata": {
    "collapsed": true
   },
   "outputs": [],
   "source": [
    "import pandas as pd\n",
    "import numpy as np\n",
    "\n",
    "df = pd.read_csv('../data/cooccurrence.csv')"
   ]
  },
  {
   "cell_type": "code",
   "execution_count": 2,
   "metadata": {
    "collapsed": false
   },
   "outputs": [
    {
     "data": {
      "text/html": [
       "<div>\n",
       "<style>\n",
       "    .dataframe thead tr:only-child th {\n",
       "        text-align: right;\n",
       "    }\n",
       "\n",
       "    .dataframe thead th {\n",
       "        text-align: left;\n",
       "    }\n",
       "\n",
       "    .dataframe tbody tr th {\n",
       "        vertical-align: top;\n",
       "    }\n",
       "</style>\n",
       "<table border=\"1\" class=\"dataframe\">\n",
       "  <thead>\n",
       "    <tr style=\"text-align: right;\">\n",
       "      <th></th>\n",
       "      <th>A. Dippet</th>\n",
       "      <th>A. Kirke</th>\n",
       "      <th>A. Lynch</th>\n",
       "      <th>A. Pye</th>\n",
       "      <th>A. Sinistra</th>\n",
       "      <th>Aberforth D.</th>\n",
       "      <th>Abraxas M.</th>\n",
       "      <th>Adrian P.</th>\n",
       "      <th>Alastor M.</th>\n",
       "      <th>Albert R.</th>\n",
       "      <th>...</th>\n",
       "      <th>Whomping Willow</th>\n",
       "      <th>William S.</th>\n",
       "      <th>William the Pukwudgie</th>\n",
       "      <th>Winky</th>\n",
       "      <th>Xenophilius L.</th>\n",
       "      <th>Yaxley</th>\n",
       "      <th>Zacharias S.</th>\n",
       "      <th>Zacharias S.] Megan J.</th>\n",
       "      <th>Zhang Fei</th>\n",
       "      <th>Úrsula F.</th>\n",
       "    </tr>\n",
       "  </thead>\n",
       "  <tbody>\n",
       "    <tr>\n",
       "      <th>A. Dippet</th>\n",
       "      <td>24</td>\n",
       "      <td>0</td>\n",
       "      <td>0</td>\n",
       "      <td>0</td>\n",
       "      <td>0</td>\n",
       "      <td>0</td>\n",
       "      <td>0</td>\n",
       "      <td>0</td>\n",
       "      <td>1</td>\n",
       "      <td>0</td>\n",
       "      <td>...</td>\n",
       "      <td>0</td>\n",
       "      <td>0</td>\n",
       "      <td>0</td>\n",
       "      <td>0</td>\n",
       "      <td>0</td>\n",
       "      <td>0</td>\n",
       "      <td>0</td>\n",
       "      <td>0</td>\n",
       "      <td>0</td>\n",
       "      <td>0</td>\n",
       "    </tr>\n",
       "    <tr>\n",
       "      <th>A. Kirke</th>\n",
       "      <td>0</td>\n",
       "      <td>11</td>\n",
       "      <td>0</td>\n",
       "      <td>0</td>\n",
       "      <td>0</td>\n",
       "      <td>0</td>\n",
       "      <td>0</td>\n",
       "      <td>0</td>\n",
       "      <td>0</td>\n",
       "      <td>0</td>\n",
       "      <td>...</td>\n",
       "      <td>0</td>\n",
       "      <td>0</td>\n",
       "      <td>0</td>\n",
       "      <td>0</td>\n",
       "      <td>0</td>\n",
       "      <td>0</td>\n",
       "      <td>0</td>\n",
       "      <td>0</td>\n",
       "      <td>0</td>\n",
       "      <td>0</td>\n",
       "    </tr>\n",
       "    <tr>\n",
       "      <th>A. Lynch</th>\n",
       "      <td>0</td>\n",
       "      <td>0</td>\n",
       "      <td>13</td>\n",
       "      <td>0</td>\n",
       "      <td>0</td>\n",
       "      <td>1</td>\n",
       "      <td>0</td>\n",
       "      <td>0</td>\n",
       "      <td>0</td>\n",
       "      <td>0</td>\n",
       "      <td>...</td>\n",
       "      <td>0</td>\n",
       "      <td>0</td>\n",
       "      <td>0</td>\n",
       "      <td>0</td>\n",
       "      <td>0</td>\n",
       "      <td>0</td>\n",
       "      <td>0</td>\n",
       "      <td>0</td>\n",
       "      <td>0</td>\n",
       "      <td>0</td>\n",
       "    </tr>\n",
       "    <tr>\n",
       "      <th>A. Pye</th>\n",
       "      <td>0</td>\n",
       "      <td>0</td>\n",
       "      <td>0</td>\n",
       "      <td>3</td>\n",
       "      <td>0</td>\n",
       "      <td>0</td>\n",
       "      <td>0</td>\n",
       "      <td>0</td>\n",
       "      <td>0</td>\n",
       "      <td>0</td>\n",
       "      <td>...</td>\n",
       "      <td>0</td>\n",
       "      <td>0</td>\n",
       "      <td>0</td>\n",
       "      <td>0</td>\n",
       "      <td>0</td>\n",
       "      <td>0</td>\n",
       "      <td>0</td>\n",
       "      <td>0</td>\n",
       "      <td>0</td>\n",
       "      <td>0</td>\n",
       "    </tr>\n",
       "    <tr>\n",
       "      <th>A. Sinistra</th>\n",
       "      <td>0</td>\n",
       "      <td>0</td>\n",
       "      <td>0</td>\n",
       "      <td>0</td>\n",
       "      <td>175</td>\n",
       "      <td>0</td>\n",
       "      <td>0</td>\n",
       "      <td>0</td>\n",
       "      <td>1</td>\n",
       "      <td>0</td>\n",
       "      <td>...</td>\n",
       "      <td>0</td>\n",
       "      <td>0</td>\n",
       "      <td>0</td>\n",
       "      <td>0</td>\n",
       "      <td>0</td>\n",
       "      <td>0</td>\n",
       "      <td>0</td>\n",
       "      <td>0</td>\n",
       "      <td>0</td>\n",
       "      <td>0</td>\n",
       "    </tr>\n",
       "  </tbody>\n",
       "</table>\n",
       "<p>5 rows × 413 columns</p>\n",
       "</div>"
      ],
      "text/plain": [
       "             A. Dippet  A. Kirke  A. Lynch  A. Pye  A. Sinistra  Aberforth D.  \\\n",
       "A. Dippet           24         0         0       0            0             0   \n",
       "A. Kirke             0        11         0       0            0             0   \n",
       "A. Lynch             0         0        13       0            0             1   \n",
       "A. Pye               0         0         0       3            0             0   \n",
       "A. Sinistra          0         0         0       0          175             0   \n",
       "\n",
       "             Abraxas M.  Adrian P.  Alastor M.  Albert R.    ...      \\\n",
       "A. Dippet             0          0           1          0    ...       \n",
       "A. Kirke              0          0           0          0    ...       \n",
       "A. Lynch              0          0           0          0    ...       \n",
       "A. Pye                0          0           0          0    ...       \n",
       "A. Sinistra           0          0           1          0    ...       \n",
       "\n",
       "             Whomping Willow  William S.  William the Pukwudgie  Winky  \\\n",
       "A. Dippet                  0           0                      0      0   \n",
       "A. Kirke                   0           0                      0      0   \n",
       "A. Lynch                   0           0                      0      0   \n",
       "A. Pye                     0           0                      0      0   \n",
       "A. Sinistra                0           0                      0      0   \n",
       "\n",
       "             Xenophilius L.  Yaxley  Zacharias S.  Zacharias S.] Megan J.  \\\n",
       "A. Dippet                 0       0             0                       0   \n",
       "A. Kirke                  0       0             0                       0   \n",
       "A. Lynch                  0       0             0                       0   \n",
       "A. Pye                    0       0             0                       0   \n",
       "A. Sinistra               0       0             0                       0   \n",
       "\n",
       "             Zhang Fei  Úrsula F.  \n",
       "A. Dippet            0          0  \n",
       "A. Kirke             0          0  \n",
       "A. Lynch             0          0  \n",
       "A. Pye               0          0  \n",
       "A. Sinistra          0          0  \n",
       "\n",
       "[5 rows x 413 columns]"
      ]
     },
     "execution_count": 2,
     "metadata": {},
     "output_type": "execute_result"
    }
   ],
   "source": [
    "df.drop(df.index[0], inplace=True)\n",
    "df.drop('Unnamed: 0', axis=1, inplace=True)\n",
    "df.head()"
   ]
  },
  {
   "cell_type": "code",
   "execution_count": 18,
   "metadata": {
    "collapsed": false
   },
   "outputs": [
    {
     "data": {
      "text/plain": [
       "151951"
      ]
     },
     "execution_count": 18,
     "metadata": {},
     "output_type": "execute_result"
    }
   ],
   "source": [
    "df['Harry P.'].nlargest(10)['Harry P.']"
   ]
  },
  {
   "cell_type": "code",
   "execution_count": 29,
   "metadata": {
    "collapsed": true
   },
   "outputs": [],
   "source": [
    "def already_related(character1, character2, relations):\n",
    "    for relation in relations:\n",
    "        if relation['character'] == character1 and relation['associate'] == character2:\n",
    "            return True"
   ]
  },
  {
   "cell_type": "code",
   "execution_count": 30,
   "metadata": {
    "collapsed": false
   },
   "outputs": [],
   "source": [
    "relations = []\n",
    "for character in df.keys():\n",
    "    data = {'character' : character}\n",
    "    most_associated = df[character].nlargest(10)\n",
    "    for associate in most_associated.keys():\n",
    "        if (associate!=character) and not already_related(associate, character, relations):\n",
    "            relations.append({'character':character, 'associate':associate, 'count':most_associated[associate]})"
   ]
  },
  {
   "cell_type": "code",
   "execution_count": 31,
   "metadata": {
    "collapsed": false
   },
   "outputs": [],
   "source": [
    "relations.sort(key=lambda x: x['count'], reverse=True)"
   ]
  },
  {
   "cell_type": "code",
   "execution_count": 35,
   "metadata": {
    "collapsed": false
   },
   "outputs": [
    {
     "data": {
      "text/plain": [
       "[{'associate': 'Hermione G.', 'character': 'Draco M.', 'count': 44837},\n",
       " {'associate': 'Harry P.', 'character': 'Draco M.', 'count': 34761},\n",
       " {'associate': 'Lily Evans P.', 'character': 'James P.', 'count': 33888},\n",
       " {'associate': 'Hermione G.', 'character': 'Harry P.', 'count': 27888},\n",
       " {'associate': 'Ron W.', 'character': 'Hermione G.', 'count': 26687},\n",
       " {'associate': 'Harry P.', 'character': 'Ginny W.', 'count': 22153},\n",
       " {'associate': 'Sirius B.', 'character': 'Remus L.', 'count': 17923},\n",
       " {'associate': 'Ginny W.', 'character': 'Draco M.', 'count': 12946},\n",
       " {'associate': 'Severus S.', 'character': 'Harry P.', 'count': 12273},\n",
       " {'associate': 'Severus S.', 'character': 'Hermione G.', 'count': 11213},\n",
       " {'associate': 'Ron W.', 'character': 'Harry P.', 'count': 9173},\n",
       " {'associate': 'Sirius B.', 'character': 'James P.', 'count': 8342},\n",
       " {'associate': 'Scorpius M.', 'character': 'Rose W.', 'count': 7893},\n",
       " {'associate': 'Severus S.', 'character': 'Lily Evans P.', 'count': 6619},\n",
       " {'associate': 'OC', 'character': 'Harry P.', 'count': 6345}]"
      ]
     },
     "execution_count": 35,
     "metadata": {},
     "output_type": "execute_result"
    }
   ],
   "source": [
    "relations[:15]"
   ]
  },
  {
   "cell_type": "code",
   "execution_count": null,
   "metadata": {
    "collapsed": true
   },
   "outputs": [],
   "source": []
  }
 ],
 "metadata": {
  "kernelspec": {
   "display_name": "Python 3",
   "language": "python",
   "name": "python3"
  },
  "language_info": {
   "codemirror_mode": {
    "name": "ipython",
    "version": 3
   },
   "file_extension": ".py",
   "mimetype": "text/x-python",
   "name": "python",
   "nbconvert_exporter": "python",
   "pygments_lexer": "ipython3",
   "version": "3.6.2"
  }
 },
 "nbformat": 4,
 "nbformat_minor": 2
}
